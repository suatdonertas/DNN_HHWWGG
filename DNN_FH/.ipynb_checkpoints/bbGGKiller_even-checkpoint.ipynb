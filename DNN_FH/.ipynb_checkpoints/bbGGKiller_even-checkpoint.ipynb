{
 "cells": [
  {
   "cell_type": "code",
   "execution_count": 6,
   "id": "a0123230",
   "metadata": {},
   "outputs": [],
   "source": [
    "import os\n",
    "import yaml\n",
    "import importlib\n",
    "import matplotlib.pyplot as plt\n",
    "from matplotlib.backends.backend_pdf import PdfPages\n",
    "import numpy as np\n",
    "import pyarrow.parquet as pq\n",
    "import pandas as pd\n",
    "from sklearn.model_selection import train_test_split\n",
    "import tensorflow as tf\n",
    "from tensorflow import keras\n",
    "from tensorflow.keras import layers\n",
    "from tensorflow.keras.callbacks import EarlyStopping, ReduceLROnPlateau"
   ]
  },
  {
   "cell_type": "code",
   "execution_count": 7,
   "id": "8332eebe",
   "metadata": {},
   "outputs": [],
   "source": [
    "### Parameters of the training ###\n",
    "\n",
    "split = \"even\" \n",
    "#split = \"odd\" \n",
    "# split = even | odd -> on what split to train the model (will be in the name)\n",
    "# -> you need one \"odd\" and one \"even\" models to be put inside bamboo\n",
    "\n",
    "suffix = 'test'\n",
    "# Suffix that will be added to the saved model (so multiple DNNs can be trained)\n",
    "\n",
    "quantile = 0.95 # We will repeat the part of the weights rightmost tail\n",
    "# Eg : 0.95, means we take the 5% events on the right tail of training weight and repeat them\n",
    "# 1.0 means no correction (to be used if you want to diable it)\n",
    "\n",
    "# DNN hyperparameters #\n",
    "parameters = {\n",
    "    'epochs'                : 200,\n",
    "    'lr'                    : 0.001,\n",
    "    'batch_size'            : 256,\n",
    "    'n_layers'              : 3,\n",
    "    'n_neurons'             : 64,\n",
    "    'hidden_activation'     : 'relu',\n",
    "    'output_activation'     : 'sigmoid',\n",
    "    'l2'                    : 1e-6,\n",
    "    'dropout'               : 0.,\n",
    "    'batch_norm'            : True,\n",
    "}\n",
    "# L2 is an additional term in the loss function : l2 x ||W||**2 where ||W|| is the sum of all the DNN weights \n",
    "#    inside the neurons\n",
    "# -> when overfitting the weights take large values, this tells the optimizer the trade off between performances\n",
    "#    and generalization (from experience, a small value always helps)\n",
    "# Dropout is a frequency of killing neurons at each batch (no backprogation for them)\n",
    "# -> used generally when overfitting is detected, to avoid that the DNN learns too much \n",
    "#    (from experience, not always useful, put it when you see overfitting)\n",
    "# Batch normalization is a layer that normalizes the output of each neuron (see documentation)\n",
    "# -> usually helps that the gradient does not go too far and backprogation is always smooth (supposedly)\n",
    "#    (from experience : always used it, maybe not worth all the time)\n",
    "\n",
    "\n",
    "# Input variables\n",
    "input_vars=[\"Eta_ph1\",\n",
    "            \"Phi_ph1\",\n",
    "            #\"E_mGG_ph1\",\n",
    "            \"pT_mGG_ph1\",\n",
    "            \"Eta_ph2\",\n",
    "            \"Phi_ph2\",\n",
    "            #\"E_mGG_ph2\",\n",
    "            \"pT_mGG_ph2\",\n",
    "            \"deltaPhi_DiPh\",\n",
    "            \"deltaR_DiPh\",\n",
    "            \"nJets\",\n",
    "            \"E_jet1\",   \n",
    "            \"pT_jet1\",\n",
    "            \"Eta_jet1\",\n",
    "            \"Phi_jet1\", \n",
    "            \"E_jet2\",   \n",
    "            \"pT_jet2\",\n",
    "            \"Eta_jet2\",\n",
    "            \"Phi_jet2\",  \n",
    "            \"E_jet3\",   \n",
    "            \"pT_jet3\",\n",
    "            \"Eta_jet3\",\n",
    "            \"Phi_jet3\",\n",
    "            \"E_jet4\",   \n",
    "            \"pT_jet4\",\n",
    "            \"Eta_jet4\",\n",
    "            \"Phi_jet4\",\n",
    "            \"w1_pT\",\n",
    "            \"w1_eta\",\n",
    "            \"w1_mass\",\n",
    "            \"w2_pT\",\n",
    "            \"w2_eta\",\n",
    "            \"w2_mass\",\n",
    "            \"ww_pT\",\n",
    "            \"ww_eta\",\n",
    "            \"ww_mass\",\n",
    "            \"mindeltaRPJ\",\n",
    "            \"maxdeltaRPJ\",\n",
    "            \"deltaRJJ\",\n",
    "            \"deltaRJJ2\",\n",
    "            \"deltaPhi_HH\",\n",
    "            \"deltaR_HH\"]"
   ]
  },
  {
   "cell_type": "code",
   "execution_count": 8,
   "id": "16348b5d",
   "metadata": {},
   "outputs": [
    {
     "name": "stderr",
     "output_type": "stream",
     "text": [
      "/nfs/scratch/fynu/sdonerta/ipykernel_4031325/1936232848.py:11: YAMLLoadWarning: calling yaml.load() without Loader=... is deprecated, as the default Loader is unsafe. Please read https://msg.pyyaml.org/load for full details.\n",
      "  config = yaml.load(handle)\n"
     ]
    }
   ],
   "source": [
    "# Load the required data #\n",
    "outputPath = '/home/ucl/cp3/sdonerta/bamboodev/WWGG/DNNOpt_FH_Skim_04_02'\n",
    "skimFile = os.path.join(outputPath,'results','Skim_FH.parquet')\n",
    "yamlFile = os.path.join(outputPath,'plots.yml')\n",
    "\n",
    "# Load dataframe from parquet #\n",
    "df = pd.read_parquet(skimFile)\n",
    "\n",
    "# Load samples + plots data from yaml file #\n",
    "with open(yamlFile,'r') as handle:\n",
    "    config = yaml.load(handle)\n"
   ]
  },
  {
   "cell_type": "code",
   "execution_count": 9,
   "id": "9d30264b",
   "metadata": {},
   "outputs": [],
   "source": [
    "# Cut negative event weights #\n",
    "df = df[(df['weight']>0) & (df['weight']<300)]\n",
    "#df = df[df['weight']>0]\n",
    "\n",
    "# Cut events/samples #\n",
    "df = df[~df.process.str.contains(\"VBF\")]\n",
    "df = df[~df.process.str.contains(\"GluGluHToGG\")]\n",
    "df = df[~df.process.str.contains(\"ttH\")]\n",
    "df = df[~df.process.str.contains(\"VH\")]\n",
    "df = df[~df.process.str.contains(\"THQ\")]\n",
    "df = df[~df.process.str.contains(\"GluGluHToGG\")]\n",
    "df = df[~df.process.str.contains(\"W1\")]\n",
    "df = df[~df.process.str.contains(\"W2\")]\n",
    "df = df[~df.process.str.contains(\"W3\")]\n",
    "df = df[~df.process.str.contains(\"WGJJ\")]\n",
    "df = df[~df.process.str.contains(\"WGGJets\")]\n",
    "df = df[~df.process.str.contains(\"DY\")]\n",
    "df = df[~df.process.str.contains(\"ZG\")]\n",
    "df = df[~df.process.str.contains(\"WW\")]\n",
    "df = df[~df.process.str.contains(\"TT\")]\n",
    "df = df[~df.process.str.contains(\"TTW\")]\n",
    "\n",
    "df[\"label\"] = 0"
   ]
  },
  {
   "cell_type": "code",
   "execution_count": 10,
   "id": "fecc7309",
   "metadata": {},
   "outputs": [],
   "source": [
    "# Set labels #\n",
    "# df[\"label\"] = 0\n",
    "# for process in pd.unique(df['process']):\n",
    "#     if process not in config['files']:\n",
    "#         raise RuntimeError(f'Process {process} not found in yaml config file')\n",
    "#     if config['files'][process]['type'] == 'signal':\n",
    "#         df.loc[df['process']==process, ['label']] = 1\n",
    "\n",
    "df.loc[df.process.str.contains(\"GluGluToHHTo2B2G\"), ['label']] = 1"
   ]
  },
  {
   "cell_type": "code",
   "execution_count": 11,
   "id": "12b641a7",
   "metadata": {
    "scrolled": false
   },
   "outputs": [
    {
     "name": "stdout",
     "output_type": "stream",
     "text": [
      "       weight   Eta_ph1   Phi_ph1  pT_mGG_ph1   Eta_ph2   Phi_ph2  pT_mGG_ph2  \\\n",
      "0    0.000025  1.550125 -0.429081    1.146218 -0.046672  0.040071    0.259975   \n",
      "1    0.000025 -0.331597 -0.570010    1.414617  0.195925  0.322665    0.686229   \n",
      "2    0.000025 -0.010950 -2.823565    0.760772 -1.469144 -2.621348    0.511143   \n",
      "3    0.000025  1.161311  1.227916    0.606318 -0.432271 -0.724228    0.281025   \n",
      "4    0.000025  0.151180  2.670311    1.722849 -0.022241 -2.667792    0.675868   \n",
      "..        ...       ...       ...         ...       ...       ...         ...   \n",
      "4   54.671268 -2.392717 -0.644548    0.341475 -0.479692  2.095490    0.334221   \n",
      "5   54.671268 -2.027300  0.506560    0.344458  0.342403 -0.463093    0.300636   \n",
      "6   54.671268  1.474123 -0.947501    0.217085 -1.841440  2.814480    0.157748   \n",
      "7   54.671268 -0.314875  3.136145    0.740329 -1.333250  0.654747    0.286807   \n",
      "8   54.671268  0.828541 -2.872322    0.371863 -1.893330 -1.752634    0.186714   \n",
      "\n",
      "    deltaPhi_DiPh  deltaR_DiPh  nJets  ...    ww_eta      ww_mass  \\\n",
      "0        0.469152     1.664291      4  ...  3.194896   672.958923   \n",
      "1        0.892675     1.036893      4  ...  1.641236   946.791199   \n",
      "2        0.202216     1.472148      4  ...  0.229979   589.149414   \n",
      "3       -1.952143     2.519993      5  ...  2.304729   854.003601   \n",
      "4        0.945082     0.960862      4  ... -0.257412   387.911835   \n",
      "..            ...          ...    ...  ...       ...          ...   \n",
      "4        2.740039     3.341778      4  ...  0.482731  5248.701660   \n",
      "5       -0.969653     2.560414      4  ... -1.544019   558.982239   \n",
      "6       -2.521204     4.165264      4  ... -4.747016  2028.770142   \n",
      "7       -2.481398     2.682243      4  ...  0.243046   373.384308   \n",
      "8        1.119688     2.943176      4  ... -3.803882  2178.556885   \n",
      "\n",
      "    mindeltaRPJ  maxdeltaRPJ  deltaRJJ  deltaRJJ2  deltaPhi_HH  deltaR_HH  \\\n",
      "0      2.284928     3.012725  3.968900   3.113642    -3.040094   3.542051   \n",
      "1      0.983860     4.065130  3.455338   2.105960    -3.057976   3.557861   \n",
      "2      1.707841     3.015243  4.726314   0.997318    -2.367430   2.566758   \n",
      "3      1.476706     3.656363  4.202960   3.061100     2.787053   3.039318   \n",
      "4      1.448471     2.800828  2.065765   1.000557    -2.913132   2.936507   \n",
      "..          ...          ...       ...        ...          ...        ...   \n",
      "4      1.277331     7.326777  7.268292   6.089639     1.882286   4.314887   \n",
      "5      2.252109     4.214064  1.537967   1.080153    -3.063933   3.064757   \n",
      "6      2.204853     6.081378  4.116895   3.202558     0.234342   4.477169   \n",
      "7      1.978596     3.552581  2.698822   1.565245     2.473256   2.823749   \n",
      "8      2.644565     6.077863  4.019114   7.878779     3.137186   4.543500   \n",
      "\n",
      "                                              process  label  \n",
      "0   GluGluToHHTo2G2Qlnu_node_cHHH1_TuneCP5_14TeV-p...      0  \n",
      "1   GluGluToHHTo2G2Qlnu_node_cHHH1_TuneCP5_14TeV-p...      0  \n",
      "2   GluGluToHHTo2G2Qlnu_node_cHHH1_TuneCP5_14TeV-p...      0  \n",
      "3   GluGluToHHTo2G2Qlnu_node_cHHH1_TuneCP5_14TeV-p...      0  \n",
      "4   GluGluToHHTo2G2Qlnu_node_cHHH1_TuneCP5_14TeV-p...      0  \n",
      "..                                                ...    ...  \n",
      "4   GJet_Pt-20to40_DoubleEMEnriched_MGG-80toInf_Tu...      0  \n",
      "5   GJet_Pt-20to40_DoubleEMEnriched_MGG-80toInf_Tu...      0  \n",
      "6   GJet_Pt-20to40_DoubleEMEnriched_MGG-80toInf_Tu...      0  \n",
      "7   GJet_Pt-20to40_DoubleEMEnriched_MGG-80toInf_Tu...      0  \n",
      "8   GJet_Pt-20to40_DoubleEMEnriched_MGG-80toInf_Tu...      0  \n",
      "\n",
      "[369199 rows x 43 columns]\n"
     ]
    }
   ],
   "source": [
    "print(df)"
   ]
  },
  {
   "cell_type": "code",
   "execution_count": 12,
   "id": "84b51884",
   "metadata": {},
   "outputs": [],
   "source": [
    "# Produce physical event weight #\n",
    "# df['event_weight'] = pd.Series(np.zeros(df.shape[0]))\n",
    "# lumi = config['configuration']['luminosity']['HL-LHC']\n",
    "# for process in pd.unique(df['process']):\n",
    "#     print (f'Looking at process {process}')\n",
    "#     if 'cross-section' in config['files'][process].keys() and config['files'][process]['type'] != 'signal':\n",
    "#         cross_section = config[\"files\"][process][\"cross-section\"]\n",
    "#     else:\n",
    "#         cross_section = 1.\n",
    "#         # For signal, we assume unit cross section (otherwise significance can be too unstable)\n",
    "#     if 'branching-ratio' in config['files'][process].keys():\n",
    "#         BR = config[\"files\"][process][\"branching-ratio\"]\n",
    "#     else:\n",
    "#         BR = 1\n",
    "#     if 'generated-events' in config['files'][process].keys():\n",
    "        \n",
    "#         generated_events = config[\"files\"][process][\"generated-events\"]\n",
    "#     else:\n",
    "#         raise RuntimeError('Process {process} is missing `generated-events` entry, should not happen')\n",
    "        \n",
    "#     print (f'... cross-section = {cross_section}')\n",
    "#     print (f'... branching-ratio = {BR}')\n",
    "#     print (f'... generated-events = {generated_events}')\n",
    "#     factor = lumi * cross_section * BR / generated_events\n",
    "#     # We don't really care about luminosity because the scale of the weights do not matter, and you have a single lumi\n",
    "#     print (f'   -> Total factor = {factor}')\n",
    "#     # Apply to the new event_weight columns #\n",
    "#     df.loc[df[\"process\"]==process,'event_weight'] = df[df[\"process\"]==process]['weight'] * factor\n",
    "#     print (f'   Sum of weights = {df[df[\"process\"]==process][\"weight\"].sum()} -> {df[df[\"process\"]==process][\"event_weight\"].sum()}')\n",
    "\n",
    "df['event_weight'] = df['weight'].copy()\n",
    "\n",
    "if (df['event_weight'] < 0).sum() > 0:\n",
    "    raise RuntimeError(f\"There are {(df['event_weight'] < 0).sum()} events with negative event weight, this should not happen\")"
   ]
  },
  {
   "cell_type": "code",
   "execution_count": 13,
   "id": "09c50d3e",
   "metadata": {},
   "outputs": [],
   "source": [
    "# Compute training weight #\n",
    "if 'training_weight' in df.columns:\n",
    "    del df['training_weight']\n",
    "df['training_weight'] = df['event_weight'].copy()\n",
    "\n",
    "df.loc[df['label']==1,'training_weight'] *= df.shape[0]/2 / (df[df['label']==1]['event_weight']).sum()\n",
    "df.loc[df['label']==0,'training_weight'] *= df.shape[0]/2 / (df[df['label']==0]['event_weight']).sum()\n",
    " "
   ]
  },
  {
   "cell_type": "code",
   "execution_count": 14,
   "id": "9572a03d",
   "metadata": {},
   "outputs": [
    {
     "name": "stdout",
     "output_type": "stream",
     "text": [
      "Using event weight\n",
      "On average, per batch the total learning weight is\n",
      "\t... signal     :  3321.653049316 [91.33 events]\n",
      "\t... background :   351.920984039 [164.67 events]\n",
      "Using training weight\n",
      "On average, per batch the total learning weight is\n",
      "\t... signal     :   128.876377869 [92.97 events]\n",
      "\t... background :   132.757675400 [163.03 events]\n"
     ]
    }
   ],
   "source": [
    "import utils\n",
    "importlib.reload(utils) # Reload in case file has changed\n",
    "print ('Using event weight')\n",
    "utils.checkBatches(df,weight_column='event_weight',batch_size=parameters['batch_size'])\n",
    "print ('Using training weight')\n",
    "utils.checkBatches(df,weight_column='training_weight',batch_size=parameters['batch_size'])"
   ]
  },
  {
   "cell_type": "code",
   "execution_count": 15,
   "id": "0b92d8f2",
   "metadata": {},
   "outputs": [
    {
     "data": {
      "image/png": "[encoded data removed]",
      "text/plain": [
       "<Figure size 1152x576 with 6 Axes>"
      ]
     },
     "metadata": {
      "needs_background": "light"
     },
     "output_type": "display_data"
    }
   ],
   "source": [
    "# Plot the background and signal weights #\n",
    "fig,axs = plt.subplots(figsize=(16,8),nrows=2,ncols=3)\n",
    "fig.subplots_adjust(left=0.1, right=0.9, top=0.98, bottom=0.1, wspace=0.2,hspace=0.3)\n",
    "for irow,label in enumerate([0,1]):\n",
    "    for icol,column in enumerate(['weight','event_weight','training_weight']):\n",
    "        axs[irow,icol].hist(df[df['label']==label][column],bins=100,color='b')\n",
    "        axs[irow,icol].set_title(f\"Label = {label}\")\n",
    "        axs[irow,icol].set_xlabel(column)\n",
    "        axs[irow,icol].set_yscale('log')\n",
    "fig.savefig(\"event_weights_A.pdf\", dpi = 300)\n"
   ]
  },
  {
   "cell_type": "code",
   "execution_count": 16,
   "id": "dcfc5234",
   "metadata": {
    "scrolled": true
   },
   "outputs": [],
   "source": [
    "# Plot the weights per process #\n",
    "if False:\n",
    "    with PdfPages(\"event_weights_B.pdf\") as pdf:\n",
    "        for process in pd.unique(df['process']):\n",
    "            fig,axs = plt.subplots(figsize=(16,6),nrows=1,ncols=3)\n",
    "            fig.subplots_adjust(left=0.1, right=0.9, top=0.9, bottom=0.1, wspace=0.2,hspace=0.3)\n",
    "            fig.suptitle(f\"Process {process}\")\n",
    "            for icol,column in enumerate(['weight','event_weight','training_weight']):\n",
    "                axs[icol].hist(df[df['process']==process][column],bins=100,color='b')\n",
    "                axs[icol].set_xlabel(column)\n",
    "                axs[icol].set_xlim(0,(df[df['process']==process][column]).max()*1.5)\n",
    "                axs[icol].set_yscale('log')\n",
    "            pdf.savefig()\n",
    "            plt.close(fig)"
   ]
  },
  {
   "cell_type": "code",
   "execution_count": 17,
   "id": "fb4f4837",
   "metadata": {},
   "outputs": [
    {
     "name": "stdout",
     "output_type": "stream",
     "text": [
      "     Eta_ph1   Phi_ph1  pT_mGG_ph1   Eta_ph2   Phi_ph2  pT_mGG_ph2  \\\n",
      "0   1.550125 -0.429081    1.146218 -0.046672  0.040071    0.259975   \n",
      "1  -0.331597 -0.570010    1.414617  0.195925  0.322665    0.686229   \n",
      "2  -0.010950 -2.823565    0.760772 -1.469144 -2.621348    0.511143   \n",
      "3   1.161311  1.227916    0.606318 -0.432271 -0.724228    0.281025   \n",
      "4   0.151180  2.670311    1.722849 -0.022241 -2.667792    0.675868   \n",
      "..       ...       ...         ...       ...       ...         ...   \n",
      "4  -2.392717 -0.644548    0.341475 -0.479692  2.095490    0.334221   \n",
      "5  -2.027300  0.506560    0.344458  0.342403 -0.463093    0.300636   \n",
      "6   1.474123 -0.947501    0.217085 -1.841440  2.814480    0.157748   \n",
      "7  -0.314875  3.136145    0.740329 -1.333250  0.654747    0.286807   \n",
      "8   0.828541 -2.872322    0.371863 -1.893330 -1.752634    0.186714   \n",
      "\n",
      "    deltaPhi_DiPh  deltaR_DiPh  nJets       E_jet1  ...      w2_mass  \\\n",
      "0        0.469152     1.664291      4   254.736557  ...   151.722565   \n",
      "1        0.892675     1.036893      4   189.149658  ...    60.545689   \n",
      "2        0.202216     1.472148      4   277.531464  ...    43.304264   \n",
      "3       -1.952143     2.519993      5   168.528030  ...   199.197479   \n",
      "4        0.945082     0.960862      4   193.526489  ...    51.208523   \n",
      "..            ...          ...    ...          ...  ...          ...   \n",
      "4        2.740039     3.341778      4  2556.459473  ...   760.344360   \n",
      "5       -0.969653     2.560414      4   118.241371  ...    42.823494   \n",
      "6       -2.521204     4.165264      4    67.549080  ...   179.879608   \n",
      "7       -2.481398     2.682243      4    39.805561  ...    52.833485   \n",
      "8        1.119688     2.943176      4    71.030098  ...  1707.189453   \n",
      "\n",
      "         ww_pT    ww_eta      ww_mass  mindeltaRPJ  maxdeltaRPJ  deltaRJJ  \\\n",
      "0   127.365433  3.194896   672.958923     2.284928     3.012725  3.968900   \n",
      "1   245.163589  1.641236   946.791199     0.983860     4.065130  3.455338   \n",
      "2    84.843834  0.229979   589.149414     1.707841     3.015243  4.726314   \n",
      "3    93.636475  2.304729   854.003601     1.476706     3.656363  4.202960   \n",
      "4   213.054977 -0.257412   387.911835     1.448471     2.800828  2.065765   \n",
      "..         ...       ...          ...          ...          ...       ...   \n",
      "4    23.746029  0.482731  5248.701660     1.277331     7.326777  7.268292   \n",
      "5    89.396782 -1.544019   558.982239     2.252109     4.214064  1.537967   \n",
      "6    33.233387 -4.747016  2028.770142     2.204853     6.081378  4.116895   \n",
      "7   110.354675  0.243046   373.384308     1.978596     3.552581  2.698822   \n",
      "8    83.755463 -3.803882  2178.556885     2.644565     6.077863  4.019114   \n",
      "\n",
      "    deltaRJJ2  deltaPhi_HH  deltaR_HH  \n",
      "0    3.113642    -3.040094   3.542051  \n",
      "1    2.105960    -3.057976   3.557861  \n",
      "2    0.997318    -2.367430   2.566758  \n",
      "3    3.061100     2.787053   3.039318  \n",
      "4    1.000557    -2.913132   2.936507  \n",
      "..        ...          ...        ...  \n",
      "4    6.089639     1.882286   4.314887  \n",
      "5    1.080153    -3.063933   3.064757  \n",
      "6    3.202558     0.234342   4.477169  \n",
      "7    1.565245     2.473256   2.823749  \n",
      "8    7.878779     3.137186   4.543500  \n",
      "\n",
      "[369199 rows x 40 columns]\n"
     ]
    }
   ],
   "source": [
    "print(df[input_vars])"
   ]
  },
  {
   "cell_type": "code",
   "execution_count": 18,
   "id": "6a4ddd89",
   "metadata": {},
   "outputs": [
    {
     "name": "stdout",
     "output_type": "stream",
     "text": [
      "Even set has     184585 events [50.00%]\n",
      "Odd  set has     184614 events [50.00%]\n"
     ]
    }
   ],
   "source": [
    "# Determine splitting variable #\n",
    "split_var = df['Phi_ph1'].copy()\n",
    "split_var *= 1e4\n",
    "split_var -= np.floor(split_var) \n",
    "split_var = (split_var*1e1).astype(int)\n",
    "split_var = split_var %2 == 0\n",
    "print (f'Even set has {df[split_var].shape[0]:10d} events [{df[split_var].shape[0]/df.shape[0]*100:5.2f}%]')\n",
    "print (f'Odd  set has {df[~split_var].shape[0]:10d} events [{df[~split_var].shape[0]/df.shape[0]*100:5.2f}%]')"
   ]
  },
  {
   "cell_type": "code",
   "execution_count": 19,
   "id": "6cd045db",
   "metadata": {},
   "outputs": [
    {
     "name": "stdout",
     "output_type": "stream",
     "text": [
      "Using split type even\n",
      " 5.00% right quantile is when weight is at 1.3841331005096436\n",
      "  -> These events will be repeated and their learning weights reduced accordingly to avoid unstability\n",
      "Changes per process in training set\n",
      "GluGluToHHTo2B2G_node_cHHH1_TuneCP5_14TeV-powheg-pythia8_200PU.root\n",
      "...  66493 events [sum weight =   92184.906250] ->  66504 events [sum weight =   92184.906250]\n",
      "DiPhotonJetsBox_MGG-80toInf_14TeV-Sherpa_200PU.root\n",
      "...  53671 events [sum weight =   72799.812500] ->  56827 events [sum weight =   72799.796875]\n",
      "GJet_Pt-40toInf_DoubleEMEnriched_MGG-80toInf_TuneCUEP8M2T4_14TeV_Pythia8_200PU.root\n",
      "...    344 events [sum weight =   17850.439453] ->  12728 events [sum weight =   17850.439453]\n",
      "DiPhotonJetsBox_MGG-40to80_14TeV-Sherpa_200PU.root\n",
      "...    495 events [sum weight =    1262.663086] ->    533 events [sum weight =    1262.663086]\n",
      "GJet_Pt-20to40_DoubleEMEnriched_MGG-80toInf_TuneCP5_14TeV-pythia8_200PU.root\n",
      "...      5 events [sum weight =      94.905312] ->     65 events [sum weight =      94.905319]\n",
      "\n",
      "Total entries :         184614 ->         200263\n",
      "Total event sum :  184193.125000 ->  184193.109375\n",
      "\n",
      "Final sets\n",
      "Training set   = 140184\n",
      "Validation set = 60079\n",
      "Testing set    = 184585\n",
      "Total set      = 369199\n"
     ]
    }
   ],
   "source": [
    "# Sets splitting #\n",
    "print (f'Using split type {split}')\n",
    "# split_var = True (even number) | False (odd number)\n",
    "# Name of the model is related to the even | odd quality of the events during inference (ie, in bamboo)\n",
    "if split == 'even':\n",
    "    train_df = df[~split_var] # Trained on odd\n",
    "    test_df  = df[split_var]  # Evaluated on even \n",
    "elif split == 'odd':\n",
    "    train_df = df[split_var]  # Trained on even\n",
    "    test_df  = df[~split_var] # Evaluated on odd \n",
    "else:\n",
    "    raise RuntimeError(f'Split needs to be either odd or even, is {split}')\n",
    "\n",
    "# Randomize for training (always good to randomize) #\n",
    "train_df = train_df.sample(frac=1)\n",
    "\n",
    "# Quantile corrections #\n",
    "# When an event has a large weight, it can imbalance a lot the training, still the weight might have a meaning\n",
    "# Idea : instead of 1 event with wi>>1, we use N copies of the event with wf = wi/N\n",
    "# From the point of view of the physics it does not matter, the total event weight sum of each process is the same\n",
    "# From the point of view of the DNN, we have split a tough nut to crack into several smaller ones\n",
    "\n",
    "quantile_lim = train_df['training_weight'].quantile(quantile)\n",
    "print (f'{(1-quantile)*100:5.2f}% right quantile is when weight is at {quantile_lim}')\n",
    "print ('  -> These events will be repeated and their learning weights reduced accordingly to avoid unstability') \n",
    "\n",
    "# Select the events #\n",
    "idx_to_repeat = train_df['training_weight'] >= quantile_lim                          \n",
    "events_excess = train_df[idx_to_repeat].copy()\n",
    "\n",
    "saved_columns = train_df[['training_weight','process']].copy()\n",
    "\n",
    "# Compute multiplicative factor #\n",
    "factor = (events_excess['training_weight']/quantile_lim).values.astype(np.int32) \n",
    "\n",
    "# Correct the weights of events already in df #\n",
    "train_df.loc[idx_to_repeat,'training_weight'] /= factor\n",
    "\n",
    "# Add N-1 copies #\n",
    "arr_to_repeat = train_df[idx_to_repeat].values                                       \n",
    "repetition = np.repeat(np.arange(arr_to_repeat.shape[0]), factor-1)                   \n",
    "df_repeated = pd.DataFrame(np.take(arr_to_repeat,repetition,axis=0),columns=train_df.columns)\n",
    "df_repeated = df_repeated.astype(train_df.dtypes.to_dict()) # otherwise dtypes are object\n",
    "train_df = pd.concat((train_df,df_repeated),axis=0,ignore_index=True).sample(frac=1).reset_index() # Add and randomize\n",
    "\n",
    "# Printout #\n",
    "print ('Changes per process in training set')\n",
    "for process in pd.unique(train_df['process']):\n",
    "    N_before = saved_columns[saved_columns['process']==process].shape[0]\n",
    "    N_after  = train_df[train_df['process']==process].shape[0]\n",
    "    if N_before != N_after:\n",
    "        print (f\"{process:20s}\")\n",
    "        print (f\"... {N_before:6d} events [sum weight = {saved_columns[saved_columns['process']==process]['training_weight'].sum():14.6f}]\",end=' -> ')\n",
    "        print (f\"{N_after:6d} events [sum weight = {train_df[train_df['process']==process]['training_weight'].sum():14.6f}]\")\n",
    "    \n",
    "print ()\n",
    "print (f\"Total entries : {saved_columns.shape[0]:14d} -> {train_df.shape[0]:14d}\")\n",
    "print (f\"Total event sum : {saved_columns['training_weight'].sum():14.6f} -> {train_df['training_weight'].sum():14.6f}\")\n",
    "\n",
    "# Validation split #\n",
    "train_df,val_df  = train_test_split(train_df,test_size=0.3)\n",
    "\n",
    "# Printout #\n",
    "print ('\\nFinal sets')\n",
    "print (f'Training set   = {train_df.shape[0]}')\n",
    "print (f'Validation set = {val_df.shape[0]}')\n",
    "print (f'Testing set    = {test_df.shape[0]}')\n",
    "print (f'Total set      = {df.shape[0]}')"
   ]
  },
  {
   "cell_type": "code",
   "execution_count": 20,
   "id": "01b20e88",
   "metadata": {},
   "outputs": [
    {
     "data": {
      "image/png": "[encoded data removed]",
      "text/plain": [
       "<Figure size 1152x576 with 2 Axes>"
      ]
     },
     "metadata": {
      "needs_background": "light"
     },
     "output_type": "display_data"
    }
   ],
   "source": [
    "# Plot the background and signal weights #\n",
    "fig,axs = plt.subplots(figsize=(16,8),nrows=1,ncols=2)\n",
    "fig.subplots_adjust(left=0.1, right=0.9, top=0.98, bottom=0.1, wspace=0.2,hspace=0.3)\n",
    "\n",
    "if split == 'even':\n",
    "    axs[0].hist(df[~split_var]['training_weight'],bins=100,color='b')\n",
    "elif split == 'odd':\n",
    "    axs[0].hist(df[split_var]['training_weight'],bins=100,color='b')\n",
    "axs[0].set_title(\"Before correction\")\n",
    "axs[0].set_xlabel(\"Training weight\")\n",
    "axs[0].set_yscale('log')\n",
    "axs[1].hist(train_df['training_weight'],bins=100,color='b')\n",
    "axs[1].set_title(\"After correction\")\n",
    "axs[1].set_xlabel(\"Training weight\")\n",
    "axs[1].set_yscale('log')\n",
    "fig.savefig(\"event_weights_C.pdf\", dpi = 300)"
   ]
  },
  {
   "cell_type": "code",
   "execution_count": 21,
   "id": "8a3c62ed",
   "metadata": {},
   "outputs": [
    {
     "name": "stderr",
     "output_type": "stream",
     "text": [
      "2022-02-04 22:00:26.296164: W tensorflow/stream_executor/platform/default/dso_loader.cc:64] Could not load dynamic library 'libcuda.so.1'; dlerror: libcuda.so.1: cannot open shared object file: No such file or directory; LD_LIBRARY_PATH: /cvmfs/sft.cern.ch/lcg/releases/MCGenerators/thepeg/2.2.1-8d929/x86_64-centos7-gcc10-opt/lib/ThePEG:/cvmfs/sft.cern.ch/lcg/releases/MCGenerators/herwig++/7.2.1-f3599/x86_64-centos7-gcc10-opt/lib/Herwig:/cvmfs/sft.cern.ch/lcg/views/LCG_101/x86_64-centos7-gcc10-opt/lib/python3.9/site-packages/torch/lib:/cvmfs/sft.cern.ch/lcg/views/LCG_101/x86_64-centos7-gcc10-opt/lib/python3.9/site-packages/tensorflow:/cvmfs/sft.cern.ch/lcg/views/LCG_101/x86_64-centos7-gcc10-opt/lib/python3.9/site-packages/tensorflow/contrib/tensor_forest:/cvmfs/sft.cern.ch/lcg/views/LCG_101/x86_64-centos7-gcc10-opt/lib/python3.9/site-packages/tensorflow/python/framework:/cvmfs/sft.cern.ch/lcg/releases/java/8u222-884d8/x86_64-centos7-gcc10-opt/jre/lib/amd64:/cvmfs/sft.cern.ch/lcg/views/LCG_101/x86_64-centos7-gcc10-opt/lib64:/cvmfs/sft.cern.ch/lcg/views/LCG_101/x86_64-centos7-gcc10-opt/lib:/cvmfs/sft.cern.ch/lcg/releases/gcc/10.3.0-f5826/x86_64-centos7/lib:/cvmfs/sft.cern.ch/lcg/releases/gcc/10.3.0-f5826/x86_64-centos7/lib64:/cvmfs/sft.cern.ch/lcg/releases/binutils/2.36.1-a9696/x86_64-centos7/lib:/cvmfs/grid.cern.ch/centos7-umd4-ui-4.0.3-1_191004/lib64:/cvmfs/grid.cern.ch/centos7-umd4-ui-4.0.3-1_191004/lib:/cvmfs/grid.cern.ch/centos7-umd4-ui-4.0.3-1_191004/usr/lib64:/cvmfs/grid.cern.ch/centos7-umd4-ui-4.0.3-1_191004/usr/lib:/cvmfs/sft.cern.ch/lcg/releases/R/3.6.3-dfb24/x86_64-centos7-gcc10-opt/lib64/R/library/readr/rcon\n",
      "2022-02-04 22:00:26.296228: W tensorflow/stream_executor/cuda/cuda_driver.cc:326] failed call to cuInit: UNKNOWN ERROR (303)\n",
      "2022-02-04 22:00:26.296295: I tensorflow/stream_executor/cuda/cuda_diagnostics.cc:156] kernel driver does not appear to be running on this host (ingrid-ui1.cism.ucl.ac.be): /proc/driver/nvidia/version does not exist\n"
     ]
    }
   ],
   "source": [
    "# Input layer #\n",
    "inputs = keras.Input(shape=(len(input_vars),), name=\"particles\")\n",
    "\n",
    "# Preprocessing layer\n",
    "from tensorflow.keras.layers.experimental import preprocessing\n",
    "normalizer = preprocessing.Normalization(mean     = train_df[input_vars].mean(axis=0),\n",
    "                                         variance = train_df[input_vars].var(axis=0),\n",
    "                                         name     = 'Normalization')(inputs)\n",
    "    # this layer does the preprocessing (x-mu)/std for each input\n",
    "# Dense (hidden) layers #\n",
    "x = normalizer\n",
    "for i in range(parameters['n_layers']):\n",
    "    x = layers.Dense(units                = parameters['n_neurons'], \n",
    "                     activation           = parameters['hidden_activation'], \n",
    "                     activity_regularizer = tf.keras.regularizers.l2(parameters['l2']),\n",
    "                     name                 = f\"dense_{i}\")(x)\n",
    "    if parameters['batch_norm']:\n",
    "        x = layers.BatchNormalization()(x)\n",
    "    if parameters['dropout'] > 0.:\n",
    "        x = layers.Dropout(parameters['dropout'])(x)\n",
    "# Output layer #\n",
    "outputs = layers.Dense(units                = 1, \n",
    "                       activation           = parameters['output_activation'],\n",
    "                       activity_regularizer = tf.keras.regularizers.l2(parameters['l2']),\n",
    "                       name                 = \"predictions\")(x)\n",
    "\n",
    "# Registering the model #\n",
    "model = keras.Model(inputs=inputs, outputs=outputs)"
   ]
  },
  {
   "cell_type": "code",
   "execution_count": 22,
   "id": "4251ca78",
   "metadata": {},
   "outputs": [
    {
     "name": "stderr",
     "output_type": "stream",
     "text": [
      "2022-02-04 22:00:26.741478: I tensorflow/compiler/mlir/mlir_graph_optimization_pass.cc:176] None of the MLIR Optimization Passes are enabled (registered 2)\n",
      "2022-02-04 22:00:26.742329: I tensorflow/core/platform/profile_utils/cpu_utils.cc:114] CPU Frequency: 2394070000 Hz\n"
     ]
    },
    {
     "name": "stdout",
     "output_type": "stream",
     "text": [
      "Input (after normalization) mean (should be close to 0)\n",
      "[-5.0810045e-09  6.4360806e-09  1.3702767e-08 -1.0965403e-08\n",
      " -1.0913742e-08 -6.2938549e-10 -5.6146159e-09 -2.4622207e-07\n",
      " -4.7984071e-07 -5.4651196e-08  1.8131362e-07 -1.4463642e-08\n",
      " -4.3768917e-09  5.2276519e-08 -7.5531787e-08  3.8521026e-09\n",
      " -1.5522787e-08 -9.3868895e-09 -4.7825644e-08  2.5234947e-08\n",
      " -9.7324886e-09 -5.3745545e-08  1.7810217e-07  6.4726469e-09\n",
      "  1.5052528e-08 -7.6477832e-08 -2.6707161e-08 -2.2552006e-08\n",
      " -9.5128307e-08  4.4002775e-09 -2.9267859e-09  6.6034985e-08\n",
      "  1.3554376e-08 -1.0443909e-08  1.2364995e-07 -5.6874075e-07\n",
      "  7.6988059e-08  6.7754662e-08 -2.0405654e-08  1.5532237e-07]\n",
      "Input (after normalization) variance (should be close to 1)\n",
      "[0.9999691  0.9999759  0.9999622  0.9999462  0.9999594  0.9999691\n",
      " 0.9999876  0.99997514 0.9993883  0.99997044 0.99995774 0.9999627\n",
      " 0.99996823 0.99996567 0.9999658  0.9999649  0.9999766  0.99996436\n",
      " 0.9999689  0.9999704  0.99997294 0.9999777  0.99997    0.9999678\n",
      " 0.99996746 0.99997514 0.9999709  0.99996346 0.9999599  0.99996454\n",
      " 0.99996364 0.99996823 0.9999758  0.99997556 0.9999691  0.9999832\n",
      " 0.9999554  0.9999707  0.99997824 0.99996436]\n"
     ]
    }
   ],
   "source": [
    "model_preprocess = keras.Model(inputs=inputs, outputs=normalizer)\n",
    "out_test = model_preprocess.predict(train_df[input_vars],batch_size=5000)\n",
    "print ('Input (after normalization) mean (should be close to 0)')\n",
    "print (out_test.mean(axis=0))\n",
    "print ('Input (after normalization) variance (should be close to 1)')\n",
    "print (out_test.var(axis=0))"
   ]
  },
  {
   "cell_type": "code",
   "execution_count": 23,
   "id": "40426231",
   "metadata": {},
   "outputs": [
    {
     "name": "stdout",
     "output_type": "stream",
     "text": [
      "Model: \"model\"\n",
      "_________________________________________________________________\n",
      "Layer (type)                 Output Shape              Param #   \n",
      "=================================================================\n",
      "particles (InputLayer)       [(None, 40)]              0         \n",
      "_________________________________________________________________\n",
      "Normalization (Normalization (None, 40)                81        \n",
      "_________________________________________________________________\n",
      "dense_0 (Dense)              (None, 64)                2624      \n",
      "_________________________________________________________________\n",
      "batch_normalization (BatchNo (None, 64)                256       \n",
      "_________________________________________________________________\n",
      "dense_1 (Dense)              (None, 64)                4160      \n",
      "_________________________________________________________________\n",
      "batch_normalization_1 (Batch (None, 64)                256       \n",
      "_________________________________________________________________\n",
      "dense_2 (Dense)              (None, 64)                4160      \n",
      "_________________________________________________________________\n",
      "batch_normalization_2 (Batch (None, 64)                256       \n",
      "_________________________________________________________________\n",
      "predictions (Dense)          (None, 1)                 65        \n",
      "=================================================================\n",
      "Total params: 11,858\n",
      "Trainable params: 11,393\n",
      "Non-trainable params: 465\n",
      "_________________________________________________________________\n"
     ]
    },
    {
     "name": "stderr",
     "output_type": "stream",
     "text": [
      "/cvmfs/sft.cern.ch/lcg/views/LCG_101/x86_64-centos7-gcc10-opt/lib/python3.9/site-packages/tensorflow/python/keras/optimizer_v2/optimizer_v2.py:374: UserWarning: The `lr` argument is deprecated, use `learning_rate` instead.\n",
      "  warnings.warn(\n"
     ]
    }
   ],
   "source": [
    "model.compile(\n",
    "    #optimizer=keras.optimizers.RMSprop(),\n",
    "    optimizer=keras.optimizers.Adam(lr=parameters['lr']),  # Optimizer\n",
    "    # Loss function to minimize\n",
    "    loss=keras.losses.BinaryCrossentropy(),\n",
    "    # List of metrics to monitor\n",
    "    metrics=[keras.metrics.BinaryAccuracy(),\n",
    "             tf.keras.metrics.AUC(),\n",
    "             tf.keras.metrics.Precision(),\n",
    "             tf.keras.metrics.Recall()],\n",
    ")\n",
    "\n",
    "model.summary()\n"
   ]
  },
  {
   "cell_type": "code",
   "execution_count": 24,
   "id": "3ea4a060",
   "metadata": {},
   "outputs": [],
   "source": [
    "# Callbacks #\n",
    "early_stopping = EarlyStopping(monitor = 'val_loss',\n",
    "                               min_delta = 0.001, \n",
    "                               patience = 20,\n",
    "                               verbose=1,\n",
    "                               mode='min',\n",
    "                               restore_best_weights=True)\n",
    "# Stop the learning when val_loss stops increasing \n",
    "# https://keras.io/api/callbacks/early_stopping/\n",
    "\n",
    "reduce_plateau = ReduceLROnPlateau(monitor = 'val_loss',\n",
    "                                   factor = 0.1,\n",
    "                                   min_delta = 0.001, \n",
    "                                   patience = 8,\n",
    "                                   min_lr = 1e-8,\n",
    "                                   verbose=2,\n",
    "                                   mode='min')\n",
    "# reduce LR if not improvement for some time \n",
    "# https://keras.io/api/callbacks/reduce_lr_on_plateau/\n",
    "import History \n",
    "importlib.reload(History)\n",
    "loss_history = History.LossHistory()"
   ]
  },
  {
   "cell_type": "code",
   "execution_count": null,
   "id": "bfa63501",
   "metadata": {
    "scrolled": false
   },
   "outputs": [
    {
     "name": "stdout",
     "output_type": "stream",
     "text": [
      "Epoch 1/200\n",
      "548/548 - 7s - loss: 0.4204 - binary_accuracy: 0.6184 - auc: 0.6947 - precision: 0.4551 - recall: 0.7644 - val_loss: 0.3930 - val_binary_accuracy: 0.6229 - val_auc: 0.7022 - val_precision: 0.4611 - val_recall: 0.7811\n",
      "Epoch 2/200\n",
      "548/548 - 3s - loss: 0.3808 - binary_accuracy: 0.6283 - auc: 0.7067 - precision: 0.4644 - recall: 0.7893 - val_loss: 0.3790 - val_binary_accuracy: 0.6312 - val_auc: 0.7056 - val_precision: 0.4680 - val_recall: 0.7805\n",
      "Epoch 3/200\n",
      "548/548 - 3s - loss: 0.3692 - binary_accuracy: 0.6313 - auc: 0.7112 - precision: 0.4673 - recall: 0.7983 - val_loss: 0.3726 - val_binary_accuracy: 0.6269 - val_auc: 0.7107 - val_precision: 0.4651 - val_recall: 0.7980\n",
      "Epoch 4/200\n"
     ]
    }
   ],
   "source": [
    "history = model.fit(\n",
    "    train_df[input_vars],\n",
    "    train_df['label'],\n",
    "    verbose=2,\n",
    "    batch_size=parameters['batch_size'],\n",
    "    epochs=parameters['epochs'],\n",
    "    sample_weight=train_df['training_weight'],\n",
    "    # We pass some validation for\n",
    "    # monitoring validation loss and metrics\n",
    "    # at the end of each epoch\n",
    "    validation_data=(val_df[input_vars],val_df['label'],val_df['training_weight']),\n",
    "    callbacks = [early_stopping, reduce_plateau, loss_history],\n",
    ")\n"
   ]
  },
  {
   "cell_type": "code",
   "execution_count": null,
   "id": "94334845",
   "metadata": {
    "scrolled": true
   },
   "outputs": [],
   "source": [
    "History.PlotHistory(loss_history,params=parameters,outputName=f'loss_{suffix}_{split}.png')\n",
    "# Params is a dict of parameters with name and values\n",
    "# used for plotting\n"
   ]
  },
  {
   "cell_type": "code",
   "execution_count": null,
   "id": "0cb255ec",
   "metadata": {},
   "outputs": [],
   "source": [
    "# Produce output on the test set as new column #\n",
    "output = model.predict(test_df[input_vars],batch_size=5000)\n",
    "    # Here the batch_size arg is independent of the learning\n",
    "    # Default is 32, but it can become slow, by using large value it will just compute more values in parallel\n",
    "    # (more or less parallel, we are not using a GPU)\n",
    "if 'output' in test_df.columns:\n",
    "    # If already output, need to remove to add again\n",
    "    # avoid issues in case you run this cell multiple times\n",
    "    del test_df['output']\n",
    "test_df = pd.concat((test_df,pd.DataFrame(output,columns=['output'],index=test_df.index)),axis=1)\n",
    "# We add the output as a column, a bit messy, different ways, here I use a concatenation"
   ]
  },
  {
   "cell_type": "code",
   "execution_count": null,
   "id": "1f10f696",
   "metadata": {},
   "outputs": [],
   "source": [
    "import roc\n",
    "importlib.reload(roc) # Reload in case file has changed\n",
    "roc.rocAndSig(y_true     = test_df['label'],\n",
    "              y_pred     = test_df['output'],\n",
    "              w_roc      = test_df['training_weight'],\n",
    "              w_sig      = test_df['event_weight'],\n",
    "              outputName = f'roc_{suffix}_{split}.pdf')\n"
   ]
  },
  {
   "cell_type": "code",
   "execution_count": null,
   "id": "38e8e583",
   "metadata": {},
   "outputs": [],
   "source": [
    "fig,axs = plt.subplots(figsize=(16,8),nrows=1,ncols=2)\n",
    "fig.subplots_adjust(left=0.1, right=0.9, top=0.98, bottom=0.1, wspace=0.2,hspace=0.3)\n",
    "\n",
    "sig_df = test_df[test_df['label']==1]\n",
    "bkg_df = test_df[test_df['label']==0]\n",
    "\n",
    "# Manual binning so we can compute significance #\n",
    "bins = np.linspace(0,1,51)\n",
    "centers = (bins[1:]+bins[:-1])/2\n",
    "widths = np.diff(bins)\n",
    "\n",
    "\n",
    "def get_bin_content(y,w):\n",
    "    digitized = np.digitize(y,bins)\n",
    "    return np.array([w[digitized==i].sum() for i in range(1, len(bins))])\n",
    "\n",
    "for icol,weight in enumerate(['event_weight','training_weight']):\n",
    "    # Fill the bins myself #\n",
    "    b = get_bin_content(bkg_df['output'],bkg_df[weight])\n",
    "    s = get_bin_content(sig_df['output'],sig_df[weight])\n",
    "    cumsum_s_left = np.cumsum(s)/s.sum()\n",
    "    cumsum_b_left = np.cumsum(b)/b.sum()\n",
    "    cumsum_s_right = np.cumsum(s[::-1])[::-1]/s.sum()\n",
    "    cumsum_b_right = np.cumsum(b[::-1])[::-1]/b.sum()\n",
    "    # Need to integrate all the bins right of the DNN cut to get significance\n",
    "    z_left = np.nan_to_num(np.sqrt(2*((cumsum_s_left+cumsum_b_left)*np.log(1+cumsum_s_left/cumsum_b_left)-cumsum_s_left)))\n",
    "    z_right = np.nan_to_num(np.sqrt(2*((cumsum_s_right+cumsum_b_right)*np.log(1+cumsum_s_right/cumsum_b_right)-cumsum_s_right)))\n",
    "    z_left /= z_left.max()\n",
    "    z_right /= z_right.max()\n",
    "    axs[icol].bar(x=centers,height=b,width=widths,alpha=0.5,color='b',label='Bkg')\n",
    "    axs[icol].bar(x=centers,height=s,width=widths,alpha=0.5,color='g',label=r'$HH \\rightarrow WW \\gamma \\gamma$')\n",
    "    ax2=axs[icol].twinx()   \n",
    "    ax2.plot(centers,z_left,color='r',label='Significance (left of cut) [normed]')\n",
    "    ax2.plot(centers,cumsum_s_left,color='g',label='Signal content (left of cut)')\n",
    "    ax2.plot(centers,cumsum_b_left,color='b',label='Bkg content (left of cut)')\n",
    "    ax2.plot(centers,z_right,color='r',linestyle='--',label='Significance (right of cut) [normed]')\n",
    "    ax2.plot(centers,cumsum_s_right,color='g',linestyle='--',label='Signal content (right of cut)')\n",
    "    ax2.plot(centers,cumsum_b_right,color='b',linestyle='--',label='Bkg content (right of cut)')\n",
    "    #ax2.set_yscale(\"log\")\n",
    "    #ax2.set_ylim([0,z.max()*1.1])\n",
    "    ax2.set_ylim([0,1.4])\n",
    "    ax2.set_ylabel('CDF')\n",
    "    ax2.legend(loc='upper right')\n",
    "\n",
    "    axs[icol].set_title(f\"Using {weight}\")\n",
    "    axs[icol].set_xlabel('DNN output')\n",
    "    axs[icol].set_ylabel('Yield')\n",
    "    axs[icol].set_ylim([s.min()*0.1,np.maximum(s,b).max()*100])\n",
    "    axs[icol].set_yscale('log')\n",
    "    axs[icol].legend(loc='upper left')\n",
    "fig.savefig(f\"prediction_{suffix}_{split}.pdf\", dpi = 300)\n",
    "\n"
   ]
  },
  {
   "cell_type": "code",
   "execution_count": null,
   "id": "86da4315",
   "metadata": {},
   "outputs": [],
   "source": [
    "# evaluate the model\n",
    "scores = model.evaluate(test_df[input_vars], \n",
    "                        test_df['label'], \n",
    "                        sample_weight = test_df['training_weight'], \n",
    "                        batch_size = 5000,\n",
    "                        verbose=2)\n",
    "print(\"%s: %.2f%%\" % (model.metrics_names[1], scores[1]*100))"
   ]
  },
  {
   "cell_type": "code",
   "execution_count": null,
   "id": "051f1247",
   "metadata": {},
   "outputs": [],
   "source": [
    "# save model and architecture to single file\n",
    "modelName = f\"model_{suffix}_{split}\"\n",
    "model.save(modelName)\n",
    "print(f\"Saved model to disk as {modelName}\")"
   ]
  }
 ],
 "metadata": {
  "kernelspec": {
   "display_name": "Python 3 (ipykernel)",
   "language": "python",
   "name": "python3"
  },
  "language_info": {
   "codemirror_mode": {
    "name": "ipython",
    "version": 3
   },
   "file_extension": ".py",
   "mimetype": "text/x-python",
   "name": "python",
   "nbconvert_exporter": "python",
   "pygments_lexer": "ipython3",
   "version": "3.9.6"
  }
 },
 "nbformat": 4,
 "nbformat_minor": 5
}
