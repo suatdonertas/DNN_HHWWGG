{
 "cells": [
  {
   "cell_type": "code",
   "execution_count": 1,
   "id": "a0123230",
   "metadata": {
    "scrolled": true
   },
   "outputs": [
    {
     "name": "stderr",
     "output_type": "stream",
     "text": [
      "2022-02-15 23:33:41.548666: W tensorflow/stream_executor/platform/default/dso_loader.cc:64] Could not load dynamic library 'libcudart.so.11.0'; dlerror: libcudart.so.11.0: cannot open shared object file: No such file or directory; LD_LIBRARY_PATH: /cvmfs/sft.cern.ch/lcg/releases/MCGenerators/thepeg/2.2.1-8d929/x86_64-centos7-gcc10-opt/lib/ThePEG:/cvmfs/sft.cern.ch/lcg/releases/MCGenerators/herwig++/7.2.1-f3599/x86_64-centos7-gcc10-opt/lib/Herwig:/cvmfs/sft.cern.ch/lcg/views/LCG_101/x86_64-centos7-gcc10-opt/lib/python3.9/site-packages/torch/lib:/cvmfs/sft.cern.ch/lcg/views/LCG_101/x86_64-centos7-gcc10-opt/lib/python3.9/site-packages/tensorflow:/cvmfs/sft.cern.ch/lcg/views/LCG_101/x86_64-centos7-gcc10-opt/lib/python3.9/site-packages/tensorflow/contrib/tensor_forest:/cvmfs/sft.cern.ch/lcg/views/LCG_101/x86_64-centos7-gcc10-opt/lib/python3.9/site-packages/tensorflow/python/framework:/cvmfs/sft.cern.ch/lcg/releases/java/8u222-884d8/x86_64-centos7-gcc10-opt/jre/lib/amd64:/cvmfs/sft.cern.ch/lcg/views/LCG_101/x86_64-centos7-gcc10-opt/lib64:/cvmfs/sft.cern.ch/lcg/views/LCG_101/x86_64-centos7-gcc10-opt/lib:/cvmfs/sft.cern.ch/lcg/releases/gcc/10.3.0-f5826/x86_64-centos7/lib:/cvmfs/sft.cern.ch/lcg/releases/gcc/10.3.0-f5826/x86_64-centos7/lib64:/cvmfs/sft.cern.ch/lcg/releases/binutils/2.36.1-a9696/x86_64-centos7/lib:/cvmfs/grid.cern.ch/centos7-umd4-ui-4.0.3-1_191004/lib64:/cvmfs/grid.cern.ch/centos7-umd4-ui-4.0.3-1_191004/lib:/cvmfs/grid.cern.ch/centos7-umd4-ui-4.0.3-1_191004/usr/lib64:/cvmfs/grid.cern.ch/centos7-umd4-ui-4.0.3-1_191004/usr/lib:/cvmfs/sft.cern.ch/lcg/releases/R/3.6.3-dfb24/x86_64-centos7-gcc10-opt/lib64/R/library/readr/rcon\n",
      "2022-02-15 23:33:41.548739: I tensorflow/stream_executor/cuda/cudart_stub.cc:29] Ignore above cudart dlerror if you do not have a GPU set up on your machine.\n"
     ]
    }
   ],
   "source": [
    "import os\n",
    "import yaml\n",
    "import importlib\n",
    "import matplotlib.pyplot as plt\n",
    "from matplotlib.backends.backend_pdf import PdfPages\n",
    "import numpy as np\n",
    "import pyarrow.parquet as pq\n",
    "import pandas as pd\n",
    "from sklearn.model_selection import train_test_split\n",
    "from sklearn.preprocessing import LabelEncoder, OneHotEncoder \n",
    "import tensorflow as tf\n",
    "from tensorflow import keras\n",
    "from tensorflow.keras import layers\n",
    "from tensorflow.keras.callbacks import EarlyStopping, ReduceLROnPlateau"
   ]
  },
  {
   "cell_type": "code",
   "execution_count": 2,
   "id": "8332eebe",
   "metadata": {},
   "outputs": [],
   "source": [
    "### Parameters of the training ###\n",
    "\n",
    "split = \"even\" \n",
    "#split = \"odd\" \n",
    "# split = even | odd -> on what split to train the model (will be in the name)\n",
    "# -> you need one \"odd\" and one \"even\" models to be put inside bamboo\n",
    "\n",
    "suffix = 'WWGGIdentifier'\n",
    "# Suffix that will be added to the saved model (so multiple DNNs can be trained)\n",
    "\n",
    "quantile = 1.0 # We will repeat the part of the weights rightmost tail\n",
    "# Eg : 0.95, means we take the 5% events on the right tail of training weight and repeat them\n",
    "# 1.0 means no correction (to be used if you want to diable it)\n",
    "\n",
    "tags = ['HH','background','single H']\n",
    "importance = [1.,1.,1.] # Importance of each category\n",
    "\n",
    "# DNN hyperparameters #\n",
    "parameters = {\n",
    "    'epochs'                : 400,\n",
    "    'lr'                    : 0.0001,\n",
    "    'batch_size'            : 150,\n",
    "    'n_layers'              : 4,\n",
    "    'n_neurons'             : 64,\n",
    "    'hidden_activation'     : 'elu',\n",
    "    'output_activation'     : 'softmax',\n",
    "    'l2'                    : 1e-6,\n",
    "    'dropout'               : 0.,\n",
    "    'batch_norm'            : True,\n",
    "}\n",
    "# L2 is an additional term in the loss function : l2 x ||W||**2 where ||W|| is the sum of all the DNN weights \n",
    "#    inside the neurons\n",
    "# -> when overfitting the weights take large values, this tells the optimizer the trade off between performances\n",
    "#    and generalization (from experience, a small value always helps)\n",
    "# Dropout is a frequency of killing neurons at each batch (no backprogation for them)\n",
    "# -> used generally when overfitting is detected, to avoid that the DNN learns too much \n",
    "#    (from experience, not always useful, put it when you see overfitting)\n",
    "# Batch normalization is a layer that normalizes the output of each neuron (see documentation)\n",
    "# -> usually helps that the gradient does not go too far and backprogation is always smooth (supposedly)\n",
    "#    (from experience : always used it, maybe not worth all the time)\n",
    "\n",
    "\n",
    "# Input variables\n",
    "input_vars=[\"Eta_ph1\",\n",
    "            \"Phi_ph1\",\n",
    "            \"E_mGG_ph1\",\n",
    "            \"pT_mGG_ph1\",\n",
    "            \"Eta_ph2\",\n",
    "            \"Phi_ph2\",\n",
    "            \"E_mGG_ph2\",\n",
    "            \"pT_mGG_ph2\",\n",
    "            \"deltaPhi_DiPh\",\n",
    "            \"deltaR_DiPh\",\n",
    "            \"nJets\",\n",
    "            \"nBJets\",\n",
    "            \"bJet1_pt\",\n",
    "            \"bJet1_eta\",\n",
    "            \"bJet1_phi\",\n",
    "            \"bJet1_E\",\n",
    "            \"bJet2_pt\",\n",
    "            \"bJet2_eta\",\n",
    "            \"bJet2_phi\",\n",
    "            \"bJet4_E\",\n",
    "            \"E_jet1\",   \n",
    "            \"pT_jet1\",\n",
    "            \"Eta_jet1\",\n",
    "            \"Phi_jet1\", \n",
    "            \"E_jet2\",   \n",
    "            \"pT_jet2\",\n",
    "            \"Eta_jet2\",\n",
    "            \"Phi_jet2\",  \n",
    "            \"E_jet3\",   \n",
    "            \"pT_jet3\",\n",
    "            \"Eta_jet3\",\n",
    "            \"Phi_jet3\",\n",
    "            \"E_jet4\",   \n",
    "            \"pT_jet4\",\n",
    "            \"Eta_jet4\",\n",
    "            \"Phi_jet4\",\n",
    "            \"w1_pT\",\n",
    "            \"w1_eta\",\n",
    "            \"w1_mass\",\n",
    "            \"w2_pT\",\n",
    "            \"w2_eta\",\n",
    "            \"w2_mass\",\n",
    "            \"ww_pT\",\n",
    "            \"ww_eta\",\n",
    "            \"ww_mass\",\n",
    "            \"mindeltaRPJ\",\n",
    "            \"maxdeltaRPJ\",\n",
    "            \"deltaRJJ\",\n",
    "            \"deltaRJJ2\",\n",
    "            \"deltaPhi_HH\",\n",
    "            \"deltaR_HH\"]"
   ]
  },
  {
   "cell_type": "code",
   "execution_count": 3,
   "id": "16348b5d",
   "metadata": {},
   "outputs": [],
   "source": [
    "# Load the required data #\n",
    "outputPath = '/home/ucl/cp3/sdonerta/bamboodev/WWGG/FH_Skim_08_02'\n",
    "skimFile = os.path.join(outputPath,'results','Skim_FH.parquet')\n",
    "yamlFile = os.path.join(outputPath,'plots.yml')\n",
    "# Load dataframe from parquet #\n",
    "df = pd.read_parquet(skimFile)\n",
    "\n",
    "# Load samples + plots data from yaml file #\n",
    "with open(yamlFile,'r') as handle:\n",
    "    config = yaml.full_load(handle)\n"
   ]
  },
  {
   "cell_type": "code",
   "execution_count": 4,
   "id": "9d30264b",
   "metadata": {},
   "outputs": [],
   "source": [
    "# Cut negative event weights #\n",
    "df = df[(df['weight']>0) & (df['weight']<300)]\n",
    "#df = df[df['weight']>0]\n",
    "\n",
    "# Cut events #\n",
    "#df = df[~df.process.str.contains(\"HHTo2G2Qlnu\")]\n",
    "#df = df[~df.process.str.contains(\"HHTo2G2l2nu\")]\n",
    "#df = df[~df.process.str.contains(\"HHTo2G2Tau\")]\n"
   ]
  },
  {
   "cell_type": "code",
   "execution_count": 5,
   "id": "13049552",
   "metadata": {},
   "outputs": [],
   "source": [
    "# Add tag column #\n",
    "if 'tag' in df.columns:\n",
    "    del df['tag']\n",
    "\n",
    "df['tag'] = 'background'\n",
    "for singleH in ['VBFH','VH','THQ','GluGluHTo','ttHJet']:\n",
    "    df.loc[df.process.str.contains(singleH),['tag']] = 'single H'\n",
    "for HH in ['HHTo2G2Qlnu', 'HHTo2G2l2nu', 'HHTo2G2Tau', 'HHTo2G4Q']:\n",
    "    df.loc[df.process.str.contains(HH),['tag']] = 'HH'\n",
    "\n",
    "for tag in tags:\n",
    "    if tag in df.columns:\n",
    "        del df[tag]\n",
    "\n",
    "assert len(set(tags).intersection(set(pd.unique(df['tag'])))) == len(tags) # Just cross check to avoid mistakes\n",
    "# Add onehot column #\n",
    "label_encoder  = LabelEncoder()                                                                                                                                                              \n",
    "onehot_encoder = OneHotEncoder(sparse=False)\n",
    "label_encoder.fit(tags)\n",
    "integers = label_encoder.transform(df['tag']).reshape(-1, 1)\n",
    "onehot_encoder.fit(np.arange(len(tags)).reshape(-1, 1))\n",
    "onehot = onehot_encoder.transform(integers)\n",
    "onehot_df = pd.DataFrame(onehot,columns=tags,index=df.index)\n",
    "\n",
    "df = pd.concat((df,onehot_df),axis=1)"
   ]
  },
  {
   "cell_type": "code",
   "execution_count": 6,
   "id": "12b641a7",
   "metadata": {
    "scrolled": true
   },
   "outputs": [
    {
     "name": "stdout",
     "output_type": "stream",
     "text": [
      "               tag\n",
      "0       background\n",
      "1       background\n",
      "2       background\n",
      "3       background\n",
      "4       background\n",
      "...            ...\n",
      "133161  background\n",
      "133162  background\n",
      "133163  background\n",
      "133164  background\n",
      "133165  background\n",
      "\n",
      "[133166 rows x 1 columns]\n"
     ]
    }
   ],
   "source": [
    "#print(df)\n",
    "print(df.loc[df.process.str.contains('2B2G'),['tag']])"
   ]
  },
  {
   "cell_type": "code",
   "execution_count": 7,
   "id": "84b51884",
   "metadata": {},
   "outputs": [],
   "source": [
    "# Produce physical event weight #\n",
    "#df['event_weight'] = pd.Series(np.zeros(df.shape[0]))\n",
    "#lumi = config['configuration']['luminosity']['HL']\n",
    "#for process in pd.unique(df['process']):\n",
    "#    print (f'Looking at process {process}')\n",
    "#    if 'cross-section' in config['files'][process].keys() and config['files'][process]['type'] != 'signal':\n",
    "#         cross_section = config[\"files\"][process][\"cross-section\"]\n",
    "#    else:\n",
    "#        cross_section = 1.\n",
    "#        # For signal, we assume unit cross section (otherwise significance can be too unstable)\n",
    "#    if 'branching-ratio' in config['files'][process].keys():\n",
    "#        BR = config[\"files\"][process][\"branching-ratio\"]\n",
    "#    else:\n",
    "#        BR = 1\n",
    "#    if 'generated-events' in config['files'][process].keys():\n",
    "#        \n",
    "#        generated_events = config[\"files\"][process][\"generated-events\"]\n",
    "#    else:\n",
    "#        raise RuntimeError('Process {process} is missing `generated-events` entry, should not happen')\n",
    "#        \n",
    "#    print (f'... cross-section = {cross_section}')\n",
    "#    print (f'... branching-ratio = {BR}')\n",
    "#    print (f'... generated-events = {generated_events}')\n",
    "#    factor = lumi * cross_section * BR / generated_events\n",
    "#    # We don't really care about luminosity because the scale of the weights do not matter, and you have a single lumi\n",
    "#    print (f'   -> Total factor = {factor}')\n",
    "#    # Apply to the new event_weight columns #\n",
    "#    df.loc[df[\"process\"]==process,'event_weight'] = df[df[\"process\"]==process]['weight'] * factor\n",
    "#    print (f'   Sum of weights = {df[df[\"process\"]==process][\"weight\"].sum()} -> {df[df[\"process\"]==process][\"event_weight\"].sum()}')\n",
    "\n",
    "df['event_weight'] = df['weight'].copy()\n",
    "\n",
    "if (df['event_weight'] < 0).sum() > 0:\n",
    "    raise RuntimeError(f\"There are {(df['event_weight'] < 0).sum()} events with negative event weight, this should not happen\")"
   ]
  },
  {
   "cell_type": "code",
   "execution_count": 8,
   "id": "f137c5c1",
   "metadata": {},
   "outputs": [],
   "source": [
    "# Compute training weight #\n",
    "if 'training_weight' in df.columns:\n",
    "    del df['training_weight']\n",
    "df['training_weight'] = df['event_weight'].copy()\n",
    "\n",
    "for itag,tag in enumerate(tags):\n",
    "    df.loc[df['tag']==tag,'training_weight'] *= importance[itag] * df.shape[0]/ len(tags) / df[df['tag']==tag]['event_weight'].sum()\n",
    "\n",
    "    "
   ]
  },
  {
   "cell_type": "code",
   "execution_count": 9,
   "id": "bb11005c",
   "metadata": {},
   "outputs": [],
   "source": [
    "df = df[(df['weight']>0) & (df['training_weight']<200)]"
   ]
  },
  {
   "cell_type": "code",
   "execution_count": 10,
   "id": "9572a03d",
   "metadata": {},
   "outputs": [
    {
     "name": "stdout",
     "output_type": "stream",
     "text": [
      "Using event weight\n",
      "On average, per batch the total weight is\n",
      "\t... HH                  :     0.000628349 [25.605 events]\n",
      "\t... background          :    66.002466006 [25.77 events]\n",
      "\t... single H            :     0.490342251 [98.625 events]\n",
      "Using training weight\n",
      "On average, per batch the total weight is\n",
      "\t... HH                  :    50.862452869 [26.37 events]\n",
      "\t... background          :    49.868842306 [25.78 events]\n",
      "\t... single H            :    50.650635290 [97.85 events]\n"
     ]
    }
   ],
   "source": [
    "import utils\n",
    "importlib.reload(utils) # Reload in case file has changed\n",
    "print ('Using event weight')\n",
    "utils.checkBatches(df,label_column='tag',weight_column='event_weight',batch_size=parameters['batch_size'])\n",
    "print ('Using training weight')\n",
    "utils.checkBatches(df,label_column='tag',weight_column='training_weight',batch_size=parameters['batch_size'])"
   ]
  },
  {
   "cell_type": "code",
   "execution_count": 11,
   "id": "0b92d8f2",
   "metadata": {},
   "outputs": [
    {
     "data": {
      "image/png": "[encoded data removed]",
      "text/plain": [
       "<Figure size 1152x576 with 9 Axes>"
      ]
     },
     "metadata": {
      "needs_background": "light"
     },
     "output_type": "display_data"
    }
   ],
   "source": [
    "# Plot the background and signal weights #\n",
    "fig,axs = plt.subplots(figsize=(16,8),nrows=len(tags),ncols=3)\n",
    "fig.subplots_adjust(left=0.1, right=0.9, top=0.98, bottom=0.1, wspace=0.2,hspace=0.4)\n",
    "for irow,tag in enumerate(tags):\n",
    "    for icol,column in enumerate(['weight','event_weight','training_weight']):\n",
    "        axs[irow,icol].hist(df[df['tag']==tag][column],bins=100,color='b')\n",
    "        axs[irow,icol].set_title(f\"Category = {tag}\")\n",
    "        axs[irow,icol].set_xlabel(column)\n",
    "        axs[irow,icol].set_yscale('log')\n",
    "fig.savefig(\"event_weights_A.pdf\", dpi = 300)\n"
   ]
  },
  {
   "cell_type": "code",
   "execution_count": 12,
   "id": "dcfc5234",
   "metadata": {
    "scrolled": true
   },
   "outputs": [],
   "source": [
    "# Plot the weights per process #\n",
    "if False:\n",
    "    with PdfPages(\"event_weights_B.pdf\") as pdf:\n",
    "        for process in pd.unique(df['process']):\n",
    "            fig,axs = plt.subplots(figsize=(16,6),nrows=1,ncols=3)\n",
    "            fig.subplots_adjust(left=0.1, right=0.9, top=0.9, bottom=0.1, wspace=0.2,hspace=0.3)\n",
    "            fig.suptitle(f\"Process {process}\")\n",
    "            for icol,column in enumerate(['weight','event_weight','training_weight']):\n",
    "                axs[icol].hist(df[df['process']==process][column],bins=100,color='b')\n",
    "                axs[icol].set_xlabel(column)\n",
    "                axs[icol].set_xlim(0,(df[df['process']==process][column]).max()*1.5)\n",
    "                axs[icol].set_yscale('log')\n",
    "            pdf.savefig()\n",
    "            plt.close(fig)"
   ]
  },
  {
   "cell_type": "code",
   "execution_count": 13,
   "id": "fb4f4837",
   "metadata": {},
   "outputs": [
    {
     "name": "stdout",
     "output_type": "stream",
     "text": [
      "      Eta_ph1   Phi_ph1  E_mGG_ph1  pT_mGG_ph1   Eta_ph2   Phi_ph2  E_mGG_ph2  \\\n",
      "0    1.550125 -0.429081   2.822150    1.146218 -0.046672  0.040071   0.260259   \n",
      "1   -0.331597 -0.570010   1.493106    1.414617  0.195925  0.322665   0.699442   \n",
      "2   -0.010950 -2.823565   0.760817    0.760772 -1.469144 -2.621348   1.169402   \n",
      "3    1.161311  1.227916   1.063237    0.606318 -0.432271 -0.724228   0.307692   \n",
      "4    0.151180  2.670311   1.742575    1.722849 -0.022241 -2.667792   0.676035   \n",
      "..        ...       ...        ...         ...       ...       ...        ...   \n",
      "941  0.451608  2.319526   0.549398    0.497769 -1.808269 -1.826399   0.584771   \n",
      "942  1.841498  1.191158   4.433098    1.371508  2.047841 -2.304103   0.733056   \n",
      "943  0.348149 -2.893506   1.623579    1.529920  0.217311  1.958151   0.384663   \n",
      "944 -1.360063  0.553334   1.036973    0.499375  1.025946 -1.924344   0.251422   \n",
      "945 -1.950573 -2.131797   1.980870    0.552166 -0.206738  2.032132   0.266677   \n",
      "\n",
      "     pT_mGG_ph2  deltaPhi_DiPh  deltaR_DiPh  ...     w2_mass       ww_pT  \\\n",
      "0      0.259975       0.469152     1.664291  ...  151.722565  127.365433   \n",
      "1      0.686229       0.892675     1.036893  ...   60.545689  245.163589   \n",
      "2      0.511143       0.202216     1.472148  ...   43.304264   84.843834   \n",
      "3      0.281025      -1.952143     2.519993  ...  199.197479   93.636475   \n",
      "4      0.675868       0.945082     0.960862  ...   51.208523  213.054977   \n",
      "..          ...            ...          ...  ...         ...         ...   \n",
      "941    0.186714       2.137261     3.110455  ...  177.185211   58.401100   \n",
      "942    0.186051       2.787924     2.795550  ...   81.711166  160.695694   \n",
      "943    0.375755      -1.431528     1.437495  ...  288.099243  151.997665   \n",
      "944    0.159725      -2.477678     3.439757  ...  107.593452  137.221542   \n",
      "945    0.261077      -2.119257     2.744488  ...  605.013794  120.214539   \n",
      "\n",
      "       ww_eta      ww_mass  mindeltaRPJ  maxdeltaRPJ  deltaRJJ  deltaRJJ2  \\\n",
      "0    3.194896   672.958923     2.284928     3.012725  3.968900   3.113642   \n",
      "1    1.641236   946.791199     0.983860     4.065130  3.455338   2.105960   \n",
      "2    0.229979   589.149414     1.707841     3.015243  4.726314   0.997318   \n",
      "3    2.304729   854.003601     1.476706     3.656363  4.202960   3.061100   \n",
      "4   -0.257412   387.911835     1.448471     2.800828  2.065765   1.000557   \n",
      "..        ...          ...          ...          ...       ...        ...   \n",
      "941 -4.393821  1245.880859     1.822893     5.640150  2.908398   2.593060   \n",
      "942 -1.954164   793.901123     2.322259     4.048608  3.180318   0.983945   \n",
      "943  1.722893   728.106384     0.624016     3.144451  2.555385   2.853231   \n",
      "944 -0.678598   294.320709     1.323302     3.122303  2.083897   2.041925   \n",
      "945 -2.398864  1055.302979     1.064773     5.093737  0.902885   5.614865   \n",
      "\n",
      "     deltaPhi_HH  deltaR_HH  \n",
      "0      -3.040094   3.542051  \n",
      "1      -3.057976   3.557861  \n",
      "2      -2.367430   2.566758  \n",
      "3       2.787053   3.039318  \n",
      "4      -2.913132   2.936507  \n",
      "..           ...        ...  \n",
      "941    -2.176410   4.291757  \n",
      "942    -1.458057   4.327824  \n",
      "943     2.845527   3.148156  \n",
      "944    -2.696622   2.784942  \n",
      "945    -2.612285   2.626131  \n",
      "\n",
      "[1733831 rows x 51 columns]\n"
     ]
    }
   ],
   "source": [
    "print(df[input_vars])"
   ]
  },
  {
   "cell_type": "code",
   "execution_count": 14,
   "id": "6a4ddd89",
   "metadata": {},
   "outputs": [
    {
     "name": "stdout",
     "output_type": "stream",
     "text": [
      "Even set has     866917 events [50.00%]\n",
      "Odd  set has     866914 events [50.00%]\n"
     ]
    }
   ],
   "source": [
    "# Determine splitting variable #\n",
    "split_var = df['Phi_ph1'].copy()\n",
    "split_var = np.abs(split_var)\n",
    "split_var *= 1e4\n",
    "split_var -= np.floor(split_var) \n",
    "split_var = (split_var*1e1).astype(int)\n",
    "split_var = split_var %2 == 0\n",
    "print (f'Even set has {df[split_var].shape[0]:10d} events [{df[split_var].shape[0]/df.shape[0]*100:5.2f}%]')\n",
    "print (f'Odd  set has {df[~split_var].shape[0]:10d} events [{df[~split_var].shape[0]/df.shape[0]*100:5.2f}%]')"
   ]
  },
  {
   "cell_type": "code",
   "execution_count": 15,
   "id": "6cd045db",
   "metadata": {},
   "outputs": [
    {
     "name": "stdout",
     "output_type": "stream",
     "text": [
      "Using split type even\n",
      " 0.00% right quantile is when weight is at 166.27548217773438\n",
      "  -> These events will be repeated and their learning weights reduced accordingly to avoid unstability\n",
      "Changes per process in training set\n",
      "\n",
      "Total entries :         866914 ->         866914\n",
      "Total event sum :  868164.125000 ->  868163.937500\n",
      "\n",
      "Final sets\n",
      "Training set   = 606839\n",
      "Validation set = 260075\n",
      "Testing set    = 866917\n",
      "Total set      = 1733831\n"
     ]
    }
   ],
   "source": [
    "# Sets splitting #\n",
    "print (f'Using split type {split}')\n",
    "# split_var = True (even number) | False (odd number)\n",
    "# Name of the model is related to the even | odd quality of the events during inference (ie, in bamboo)\n",
    "if split == 'even':\n",
    "    train_df = df[~split_var] # Trained on odd\n",
    "    test_df  = df[split_var]  # Evaluated on even \n",
    "elif split == 'odd':\n",
    "    train_df = df[split_var]  # Trained on even\n",
    "    test_df  = df[~split_var] # Evaluated on odd \n",
    "else:\n",
    "    raise RuntimeError(f'Split needs to be either odd or even, is {split}')\n",
    "\n",
    "# Randomize for training (always good to randomize) #\n",
    "train_df = train_df.sample(frac=1)\n",
    "\n",
    "# Quantile corrections #\n",
    "# When an event has a large weight, it can imbalance a lot the training, still the weight might have a meaning\n",
    "# Idea : instead of 1 event with wi>>1, we use N copies of the event with wf = wi/N\n",
    "# From the point of view of the physics it does not matter, the total event weight sum of each process is the same\n",
    "# From the point of view of the DNN, we have split a tough nut to crack into several smaller ones\n",
    "\n",
    "quantile_lim = train_df['training_weight'].quantile(quantile)\n",
    "print (f'{(1-quantile)*100:5.2f}% right quantile is when weight is at {quantile_lim}')\n",
    "print ('  -> These events will be repeated and their learning weights reduced accordingly to avoid unstability') \n",
    "\n",
    "# Select the events #\n",
    "idx_to_repeat = train_df['training_weight'] >= quantile_lim                          \n",
    "events_excess = train_df[idx_to_repeat].copy()\n",
    "\n",
    "saved_columns = train_df[['training_weight','process']].copy()\n",
    "\n",
    "# Compute multiplicative factor #\n",
    "factor = (events_excess['training_weight']/quantile_lim).values.astype(np.int32) \n",
    "\n",
    "# Correct the weights of events already in df #\n",
    "train_df.loc[idx_to_repeat,'training_weight'] /= factor\n",
    "\n",
    "# Add N-1 copies #\n",
    "arr_to_repeat = train_df[idx_to_repeat].values                                       \n",
    "repetition = np.repeat(np.arange(arr_to_repeat.shape[0]), factor-1)                   \n",
    "df_repeated = pd.DataFrame(np.take(arr_to_repeat,repetition,axis=0),columns=train_df.columns)\n",
    "df_repeated = df_repeated.astype(train_df.dtypes.to_dict()) # otherwise dtypes are object\n",
    "train_df = pd.concat((train_df,df_repeated),axis=0,ignore_index=True).sample(frac=1).reset_index() # Add and randomize\n",
    "\n",
    "# Printout #\n",
    "print ('Changes per process in training set')\n",
    "for process in pd.unique(train_df['process']):\n",
    "    N_before = saved_columns[saved_columns['process']==process].shape[0]\n",
    "    N_after  = train_df[train_df['process']==process].shape[0]\n",
    "    if N_before != N_after:\n",
    "        print (f\"{process:20s}\")\n",
    "        print (f\"... {N_before:6d} events [sum weight = {saved_columns[saved_columns['process']==process]['training_weight'].sum():14.6f}]\",end=' -> ')\n",
    "        print (f\"{N_after:6d} events [sum weight = {train_df[train_df['process']==process]['training_weight'].sum():14.6f}]\")\n",
    "    \n",
    "print ()\n",
    "print (f\"Total entries : {saved_columns.shape[0]:14d} -> {train_df.shape[0]:14d}\")\n",
    "print (f\"Total event sum : {saved_columns['training_weight'].sum():14.6f} -> {train_df['training_weight'].sum():14.6f}\")\n",
    "\n",
    "# Validation split #\n",
    "train_df,val_df  = train_test_split(train_df,test_size=0.3)\n",
    "\n",
    "# Printout #\n",
    "print ('\\nFinal sets')\n",
    "print (f'Training set   = {train_df.shape[0]}')\n",
    "print (f'Validation set = {val_df.shape[0]}')\n",
    "print (f'Testing set    = {test_df.shape[0]}')\n",
    "print (f'Total set      = {df.shape[0]}')"
   ]
  },
  {
   "cell_type": "code",
   "execution_count": 16,
   "id": "42c2bc3c",
   "metadata": {},
   "outputs": [
    {
     "data": {
      "image/png": "[encoded data removed]",
      "text/plain": [
       "<Figure size 1152x576 with 2 Axes>"
      ]
     },
     "metadata": {
      "needs_background": "light"
     },
     "output_type": "display_data"
    }
   ],
   "source": [
    "# Plot the background and signal weights #\n",
    "fig,axs = plt.subplots(figsize=(16,8),nrows=1,ncols=2)\n",
    "fig.subplots_adjust(left=0.1, right=0.9, top=0.96, bottom=0.1, wspace=0.2,hspace=0.3)\n",
    "\n",
    "if split == 'even':\n",
    "    axs[0].hist(df[~split_var]['training_weight'],bins=100,color='b')\n",
    "elif split == 'odd':\n",
    "    axs[0].hist(df[split_var]['training_weight'],bins=100,color='b')\n",
    "axs[0].set_title(\"Before correction\")\n",
    "axs[0].set_xlabel(\"Training weight\")\n",
    "axs[0].set_yscale('log')\n",
    "axs[1].hist(train_df['training_weight'],bins=100,color='b')\n",
    "axs[1].set_title(\"After correction\")\n",
    "axs[1].set_xlabel(\"Training weight\")\n",
    "axs[1].set_yscale('log')\n",
    "fig.savefig(\"event_weights_C.pdf\", dpi = 300)"
   ]
  },
  {
   "cell_type": "code",
   "execution_count": 17,
   "id": "8a3c62ed",
   "metadata": {},
   "outputs": [
    {
     "name": "stderr",
     "output_type": "stream",
     "text": [
      "2022-02-15 23:34:32.298094: W tensorflow/stream_executor/platform/default/dso_loader.cc:64] Could not load dynamic library 'libcuda.so.1'; dlerror: libcuda.so.1: cannot open shared object file: No such file or directory; LD_LIBRARY_PATH: /cvmfs/sft.cern.ch/lcg/releases/MCGenerators/thepeg/2.2.1-8d929/x86_64-centos7-gcc10-opt/lib/ThePEG:/cvmfs/sft.cern.ch/lcg/releases/MCGenerators/herwig++/7.2.1-f3599/x86_64-centos7-gcc10-opt/lib/Herwig:/cvmfs/sft.cern.ch/lcg/views/LCG_101/x86_64-centos7-gcc10-opt/lib/python3.9/site-packages/torch/lib:/cvmfs/sft.cern.ch/lcg/views/LCG_101/x86_64-centos7-gcc10-opt/lib/python3.9/site-packages/tensorflow:/cvmfs/sft.cern.ch/lcg/views/LCG_101/x86_64-centos7-gcc10-opt/lib/python3.9/site-packages/tensorflow/contrib/tensor_forest:/cvmfs/sft.cern.ch/lcg/views/LCG_101/x86_64-centos7-gcc10-opt/lib/python3.9/site-packages/tensorflow/python/framework:/cvmfs/sft.cern.ch/lcg/releases/java/8u222-884d8/x86_64-centos7-gcc10-opt/jre/lib/amd64:/cvmfs/sft.cern.ch/lcg/views/LCG_101/x86_64-centos7-gcc10-opt/lib64:/cvmfs/sft.cern.ch/lcg/views/LCG_101/x86_64-centos7-gcc10-opt/lib:/cvmfs/sft.cern.ch/lcg/releases/gcc/10.3.0-f5826/x86_64-centos7/lib:/cvmfs/sft.cern.ch/lcg/releases/gcc/10.3.0-f5826/x86_64-centos7/lib64:/cvmfs/sft.cern.ch/lcg/releases/binutils/2.36.1-a9696/x86_64-centos7/lib:/cvmfs/grid.cern.ch/centos7-umd4-ui-4.0.3-1_191004/lib64:/cvmfs/grid.cern.ch/centos7-umd4-ui-4.0.3-1_191004/lib:/cvmfs/grid.cern.ch/centos7-umd4-ui-4.0.3-1_191004/usr/lib64:/cvmfs/grid.cern.ch/centos7-umd4-ui-4.0.3-1_191004/usr/lib:/cvmfs/sft.cern.ch/lcg/releases/R/3.6.3-dfb24/x86_64-centos7-gcc10-opt/lib64/R/library/readr/rcon\n",
      "2022-02-15 23:34:32.298163: W tensorflow/stream_executor/cuda/cuda_driver.cc:326] failed call to cuInit: UNKNOWN ERROR (303)\n",
      "2022-02-15 23:34:32.298206: I tensorflow/stream_executor/cuda/cuda_diagnostics.cc:156] kernel driver does not appear to be running on this host (ingrid-ui1.cism.ucl.ac.be): /proc/driver/nvidia/version does not exist\n"
     ]
    }
   ],
   "source": [
    "# Input layer #\n",
    "inputs = keras.Input(shape=(len(input_vars),), name=\"particles\")\n",
    "\n",
    "# Preprocessing layer\n",
    "from tensorflow.keras.layers.experimental import preprocessing\n",
    "normalizer = preprocessing.Normalization(mean     = train_df[input_vars].mean(axis=0),\n",
    "                                         variance = train_df[input_vars].var(axis=0),\n",
    "                                         name     = 'Normalization')(inputs)\n",
    "    # this layer does the preprocessing (x-mu)/std for each input\n",
    "# Dense (hidden) layers #\n",
    "x = normalizer\n",
    "for i in range(parameters['n_layers']):\n",
    "    x = layers.Dense(units                = parameters['n_neurons'], \n",
    "                     activation           = parameters['hidden_activation'], \n",
    "                     activity_regularizer = tf.keras.regularizers.l2(parameters['l2']),\n",
    "                     name                 = f\"dense_{i}\")(x)\n",
    "    if parameters['batch_norm']:\n",
    "        x = layers.BatchNormalization()(x)\n",
    "    if parameters['dropout'] > 0.:\n",
    "        x = layers.Dropout(parameters['dropout'])(x)\n",
    "# Output layer #\n",
    "outputs = layers.Dense(units                = 3, \n",
    "                       activation           = parameters['output_activation'],\n",
    "                       activity_regularizer = tf.keras.regularizers.l2(parameters['l2']),\n",
    "                       name                 = \"predictions\")(x)\n",
    "\n",
    "# Registering the model #\n",
    "model = keras.Model(inputs=inputs, outputs=outputs)"
   ]
  },
  {
   "cell_type": "code",
   "execution_count": 18,
   "id": "4251ca78",
   "metadata": {},
   "outputs": [
    {
     "name": "stderr",
     "output_type": "stream",
     "text": [
      "2022-02-15 23:34:33.562345: I tensorflow/compiler/mlir/mlir_graph_optimization_pass.cc:176] None of the MLIR Optimization Passes are enabled (registered 2)\n",
      "2022-02-15 23:34:33.563182: I tensorflow/core/platform/profile_utils/cpu_utils.cc:114] CPU Frequency: 2394070000 Hz\n"
     ]
    },
    {
     "name": "stdout",
     "output_type": "stream",
     "text": [
      "Input (after normalization) mean (should be close to 0)\n",
      "[ 8.2660279e-09  2.2748889e-08 -5.8429524e-08  4.9177252e-08\n",
      "  2.1301693e-08  1.0445072e-08 -2.4131602e-08 -6.6258615e-08\n",
      "  3.9380934e-09 -1.7627137e-07 -3.8163698e-06  8.1994307e-07\n",
      " -4.0313688e-07 -1.4609301e-06  8.0921785e-07 -3.6366524e-07\n",
      "  2.0814164e-06 -7.4487474e-07 -3.0773174e-06 -2.3172583e-06\n",
      "  2.3489675e-09 -9.6802950e-08 -1.7768345e-08  1.4192026e-09\n",
      " -6.0050176e-08  3.1224667e-07  1.1340164e-08  3.1072769e-08\n",
      "  7.3412480e-08 -8.1371275e-07  1.0817197e-08 -5.2955147e-09\n",
      " -1.7088063e-07  3.6438706e-08  1.3912095e-09 -2.7961503e-08\n",
      "  1.1485042e-09  1.3079766e-08 -7.2548474e-08  6.8022722e-08\n",
      " -1.5118157e-08 -4.2231949e-08  1.2917211e-07  1.1780099e-08\n",
      "  2.1921396e-07 -2.2406844e-07 -3.8026116e-07  2.4218608e-07\n",
      " -7.0728866e-08 -2.1368876e-08 -3.1196006e-07]\n",
      "Input (after normalization) variance (should be close to 1)\n",
      "[0.9997636  0.9998277  0.99975497 0.99974984 0.9997591  0.9998145\n",
      " 0.99977136 0.999736   0.9998813  0.99980676 0.99932593 1.0010594\n",
      " 1.0013291  0.9998594  0.99987054 1.0001684  0.99690723 0.9999512\n",
      " 0.99995214 0.99793005 0.9997394  0.99969184 0.99975115 0.9998151\n",
      " 0.99973315 0.9997585  0.99975747 0.9998322  0.9997534  0.99972314\n",
      " 0.9997454  0.9998185  0.9997078  0.99975115 0.9997118  0.9998146\n",
      " 0.9997319  0.9998097  0.9997105  0.9997034  0.9997896  0.9996938\n",
      " 0.99973994 0.9998465  0.9997382  0.99981505 0.9997688  0.99976087\n",
      " 0.9997215  0.99993813 0.9996879 ]\n"
     ]
    }
   ],
   "source": [
    "model_preprocess = keras.Model(inputs=inputs, outputs=normalizer)\n",
    "out_test = model_preprocess.predict(train_df[input_vars],batch_size=5000)\n",
    "print ('Input (after normalization) mean (should be close to 0)')\n",
    "print (out_test.mean(axis=0))\n",
    "print ('Input (after normalization) variance (should be close to 1)')\n",
    "print (out_test.var(axis=0))"
   ]
  },
  {
   "cell_type": "code",
   "execution_count": 19,
   "id": "40426231",
   "metadata": {},
   "outputs": [
    {
     "name": "stdout",
     "output_type": "stream",
     "text": [
      "Model: \"model\"\n",
      "_________________________________________________________________\n",
      "Layer (type)                 Output Shape              Param #   \n",
      "=================================================================\n",
      "particles (InputLayer)       [(None, 51)]              0         \n",
      "_________________________________________________________________\n",
      "Normalization (Normalization (None, 51)                103       \n",
      "_________________________________________________________________\n",
      "dense_0 (Dense)              (None, 64)                3328      \n",
      "_________________________________________________________________\n",
      "batch_normalization (BatchNo (None, 64)                256       \n",
      "_________________________________________________________________\n",
      "dense_1 (Dense)              (None, 64)                4160      \n",
      "_________________________________________________________________\n",
      "batch_normalization_1 (Batch (None, 64)                256       \n",
      "_________________________________________________________________\n",
      "dense_2 (Dense)              (None, 64)                4160      \n",
      "_________________________________________________________________\n",
      "batch_normalization_2 (Batch (None, 64)                256       \n",
      "_________________________________________________________________\n",
      "dense_3 (Dense)              (None, 64)                4160      \n",
      "_________________________________________________________________\n",
      "batch_normalization_3 (Batch (None, 64)                256       \n",
      "_________________________________________________________________\n",
      "predictions (Dense)          (None, 3)                 195       \n",
      "=================================================================\n",
      "Total params: 17,130\n",
      "Trainable params: 16,515\n",
      "Non-trainable params: 615\n",
      "_________________________________________________________________\n"
     ]
    },
    {
     "name": "stderr",
     "output_type": "stream",
     "text": [
      "/cvmfs/sft.cern.ch/lcg/views/LCG_101/x86_64-centos7-gcc10-opt/lib/python3.9/site-packages/tensorflow/python/keras/optimizer_v2/optimizer_v2.py:374: UserWarning: The `lr` argument is deprecated, use `learning_rate` instead.\n",
      "  warnings.warn(\n"
     ]
    }
   ],
   "source": [
    "model.compile(\n",
    "    #optimizer=keras.optimizers.RMSprop(),\n",
    "    optimizer=keras.optimizers.Adam(lr=parameters['lr']),  # Optimizer\n",
    "    # Loss function to minimize\n",
    "    loss=keras.losses.CategoricalCrossentropy(),\n",
    "    # List of metrics to monitor\n",
    "    metrics=[keras.metrics.BinaryAccuracy(),\n",
    "             tf.keras.metrics.AUC(),\n",
    "             tf.keras.metrics.Precision(),\n",
    "             tf.keras.metrics.Recall()],\n",
    ")\n",
    "\n",
    "model.summary()\n"
   ]
  },
  {
   "cell_type": "code",
   "execution_count": 20,
   "id": "3ea4a060",
   "metadata": {},
   "outputs": [],
   "source": [
    "# Callbacks #\n",
    "early_stopping = EarlyStopping(monitor = 'val_loss',\n",
    "                               min_delta = 0.001, \n",
    "                               patience = 20,\n",
    "                               verbose=1,\n",
    "                               mode='min',\n",
    "                               restore_best_weights=True)\n",
    "# Stop the learning when val_loss stops increasing \n",
    "# https://keras.io/api/callbacks/early_stopping/\n",
    "\n",
    "reduce_plateau = ReduceLROnPlateau(monitor = 'val_loss',\n",
    "                                   factor = 0.1,\n",
    "                                   min_delta = 0.001, \n",
    "                                   patience = 8,\n",
    "                                   min_lr = 1e-8,\n",
    "                                   verbose=2,\n",
    "                                   mode='min')\n",
    "# reduce LR if not improvement for some time \n",
    "# https://keras.io/api/callbacks/reduce_lr_on_plateau/\n",
    "import History \n",
    "importlib.reload(History)\n",
    "loss_history = History.LossHistory()"
   ]
  },
  {
   "cell_type": "code",
   "execution_count": 21,
   "id": "bfa63501",
   "metadata": {
    "scrolled": false
   },
   "outputs": [
    {
     "name": "stdout",
     "output_type": "stream",
     "text": [
      "Epoch 1/400\n",
      "4046/4046 - 26s - loss: 0.9466 - binary_accuracy: 0.6539 - auc: 0.6612 - precision: 0.4726 - recall: 0.3297 - val_loss: 0.8927 - val_binary_accuracy: 0.6729 - val_auc: 0.7066 - val_precision: 0.5125 - val_recall: 0.3859\n",
      "Epoch 2/400\n",
      "4046/4046 - 21s - loss: 0.8637 - binary_accuracy: 0.6919 - auc: 0.7304 - precision: 0.5501 - recall: 0.4156 - val_loss: 0.8715 - val_binary_accuracy: 0.6993 - val_auc: 0.7430 - val_precision: 0.5640 - val_recall: 0.4319\n",
      "Epoch 3/400\n",
      "4046/4046 - 20s - loss: 0.8430 - binary_accuracy: 0.7044 - auc: 0.7486 - precision: 0.5728 - recall: 0.4450 - val_loss: 0.8625 - val_binary_accuracy: 0.7106 - val_auc: 0.7561 - val_precision: 0.5844 - val_recall: 0.4566\n",
      "Epoch 4/400\n",
      "4046/4046 - 20s - loss: 0.8317 - binary_accuracy: 0.7096 - auc: 0.7551 - precision: 0.5818 - recall: 0.4579 - val_loss: 0.8578 - val_binary_accuracy: 0.7108 - val_auc: 0.7585 - val_precision: 0.5856 - val_recall: 0.4531\n",
      "Epoch 5/400\n",
      "4046/4046 - 20s - loss: 0.8221 - binary_accuracy: 0.7140 - auc: 0.7601 - precision: 0.5894 - recall: 0.4685 - val_loss: 0.8596 - val_binary_accuracy: 0.7233 - val_auc: 0.7713 - val_precision: 0.6050 - val_recall: 0.4894\n",
      "Epoch 6/400\n",
      "4046/4046 - 21s - loss: 0.8156 - binary_accuracy: 0.7158 - auc: 0.7622 - precision: 0.5919 - recall: 0.4747 - val_loss: 0.8550 - val_binary_accuracy: 0.7231 - val_auc: 0.7716 - val_precision: 0.6061 - val_recall: 0.4840\n",
      "Epoch 7/400\n",
      "4046/4046 - 20s - loss: 0.8094 - binary_accuracy: 0.7178 - auc: 0.7644 - precision: 0.5951 - recall: 0.4799 - val_loss: 0.8539 - val_binary_accuracy: 0.7284 - val_auc: 0.7762 - val_precision: 0.6152 - val_recall: 0.4950\n",
      "Epoch 8/400\n",
      "4046/4046 - 20s - loss: 0.8058 - binary_accuracy: 0.7195 - auc: 0.7665 - precision: 0.5980 - recall: 0.4830 - val_loss: 0.8567 - val_binary_accuracy: 0.7190 - val_auc: 0.7653 - val_precision: 0.5971 - val_recall: 0.4827\n",
      "Epoch 9/400\n",
      "4046/4046 - 20s - loss: 0.8001 - binary_accuracy: 0.7199 - auc: 0.7665 - precision: 0.5983 - recall: 0.4863 - val_loss: 0.8554 - val_binary_accuracy: 0.7321 - val_auc: 0.7797 - val_precision: 0.6195 - val_recall: 0.5088\n",
      "Epoch 10/400\n",
      "4046/4046 - 20s - loss: 0.7956 - binary_accuracy: 0.7230 - auc: 0.7695 - precision: 0.6036 - recall: 0.4919 - val_loss: 0.8537 - val_binary_accuracy: 0.7215 - val_auc: 0.7679 - val_precision: 0.6002 - val_recall: 0.4922\n",
      "Epoch 11/400\n",
      "4046/4046 - 21s - loss: 0.7903 - binary_accuracy: 0.7225 - auc: 0.7683 - precision: 0.6020 - recall: 0.4947 - val_loss: 0.8528 - val_binary_accuracy: 0.7264 - val_auc: 0.7732 - val_precision: 0.6092 - val_recall: 0.5003\n",
      "Epoch 12/400\n",
      "4046/4046 - 20s - loss: 0.7864 - binary_accuracy: 0.7238 - auc: 0.7703 - precision: 0.6043 - recall: 0.4970 - val_loss: 0.8662 - val_binary_accuracy: 0.7350 - val_auc: 0.7820 - val_precision: 0.6234 - val_recall: 0.5177\n",
      "Epoch 13/400\n",
      "4046/4046 - 20s - loss: 0.7859 - binary_accuracy: 0.7243 - auc: 0.7701 - precision: 0.6049 - recall: 0.4981 - val_loss: 0.8549 - val_binary_accuracy: 0.7246 - val_auc: 0.7702 - val_precision: 0.6070 - val_recall: 0.4931\n",
      "Epoch 14/400\n",
      "4046/4046 - 20s - loss: 0.7789 - binary_accuracy: 0.7249 - auc: 0.7708 - precision: 0.6057 - recall: 0.5009 - val_loss: 0.8540 - val_binary_accuracy: 0.7340 - val_auc: 0.7802 - val_precision: 0.6223 - val_recall: 0.5140\n",
      "Epoch 15/400\n",
      "4046/4046 - 20s - loss: 0.7752 - binary_accuracy: 0.7256 - auc: 0.7708 - precision: 0.6067 - recall: 0.5028 - val_loss: 0.8578 - val_binary_accuracy: 0.7345 - val_auc: 0.7801 - val_precision: 0.6214 - val_recall: 0.5211\n",
      "Epoch 16/400\n",
      "4046/4046 - 21s - loss: 0.7723 - binary_accuracy: 0.7265 - auc: 0.7717 - precision: 0.6082 - recall: 0.5046 - val_loss: 0.8569 - val_binary_accuracy: 0.7323 - val_auc: 0.7781 - val_precision: 0.6174 - val_recall: 0.5182\n",
      "Epoch 17/400\n",
      "4046/4046 - 21s - loss: 0.7694 - binary_accuracy: 0.7283 - auc: 0.7734 - precision: 0.6107 - recall: 0.5099 - val_loss: 0.8593 - val_binary_accuracy: 0.7305 - val_auc: 0.7756 - val_precision: 0.6136 - val_recall: 0.5173\n",
      "Epoch 18/400\n",
      "4046/4046 - 21s - loss: 0.7653 - binary_accuracy: 0.7272 - auc: 0.7720 - precision: 0.6086 - recall: 0.5087 - val_loss: 0.8619 - val_binary_accuracy: 0.7268 - val_auc: 0.7711 - val_precision: 0.6065 - val_recall: 0.5134\n",
      "Epoch 19/400\n",
      "4046/4046 - 21s - loss: 0.7630 - binary_accuracy: 0.7285 - auc: 0.7733 - precision: 0.6108 - recall: 0.5114 - val_loss: 0.8622 - val_binary_accuracy: 0.7346 - val_auc: 0.7787 - val_precision: 0.6213 - val_recall: 0.5221\n",
      "\n",
      "Epoch 00019: ReduceLROnPlateau reducing learning rate to 9.999999747378752e-06.\n",
      "Epoch 20/400\n",
      "4046/4046 - 21s - loss: 0.7445 - binary_accuracy: 0.7309 - auc: 0.7757 - precision: 0.6150 - recall: 0.5153 - val_loss: 0.8551 - val_binary_accuracy: 0.7286 - val_auc: 0.7728 - val_precision: 0.6111 - val_recall: 0.5108\n",
      "Epoch 21/400\n",
      "4046/4046 - 21s - loss: 0.7410 - binary_accuracy: 0.7295 - auc: 0.7750 - precision: 0.6124 - recall: 0.5133 - val_loss: 0.8545 - val_binary_accuracy: 0.7307 - val_auc: 0.7753 - val_precision: 0.6150 - val_recall: 0.5139\n",
      "Epoch 22/400\n",
      "4046/4046 - 21s - loss: 0.7418 - binary_accuracy: 0.7300 - auc: 0.7752 - precision: 0.6134 - recall: 0.5137 - val_loss: 0.8571 - val_binary_accuracy: 0.7312 - val_auc: 0.7761 - val_precision: 0.6151 - val_recall: 0.5174\n",
      "Epoch 23/400\n",
      "4046/4046 - 21s - loss: 0.7417 - binary_accuracy: 0.7307 - auc: 0.7761 - precision: 0.6143 - recall: 0.5167 - val_loss: 0.8564 - val_binary_accuracy: 0.7306 - val_auc: 0.7752 - val_precision: 0.6147 - val_recall: 0.5143\n",
      "Epoch 24/400\n",
      "4046/4046 - 21s - loss: 0.7399 - binary_accuracy: 0.7305 - auc: 0.7757 - precision: 0.6140 - recall: 0.5155 - val_loss: 0.8566 - val_binary_accuracy: 0.7310 - val_auc: 0.7759 - val_precision: 0.6150 - val_recall: 0.5162\n",
      "Epoch 25/400\n",
      "4046/4046 - 21s - loss: 0.7401 - binary_accuracy: 0.7305 - auc: 0.7759 - precision: 0.6139 - recall: 0.5157 - val_loss: 0.8583 - val_binary_accuracy: 0.7320 - val_auc: 0.7766 - val_precision: 0.6165 - val_recall: 0.5188\n",
      "Epoch 26/400\n",
      "4046/4046 - 21s - loss: 0.7383 - binary_accuracy: 0.7311 - auc: 0.7763 - precision: 0.6149 - recall: 0.5172 - val_loss: 0.8581 - val_binary_accuracy: 0.7331 - val_auc: 0.7779 - val_precision: 0.6186 - val_recall: 0.5198\n",
      "Epoch 27/400\n",
      "4046/4046 - 21s - loss: 0.7376 - binary_accuracy: 0.7307 - auc: 0.7760 - precision: 0.6140 - recall: 0.5171 - val_loss: 0.8578 - val_binary_accuracy: 0.7321 - val_auc: 0.7767 - val_precision: 0.6169 - val_recall: 0.5183\n",
      "\n",
      "Epoch 00027: ReduceLROnPlateau reducing learning rate to 9.999999747378752e-07.\n",
      "Epoch 28/400\n",
      "4046/4046 - 21s - loss: 0.7363 - binary_accuracy: 0.7309 - auc: 0.7762 - precision: 0.6144 - recall: 0.5173 - val_loss: 0.8580 - val_binary_accuracy: 0.7326 - val_auc: 0.7772 - val_precision: 0.6176 - val_recall: 0.5192\n",
      "Epoch 29/400\n",
      "4046/4046 - 20s - loss: 0.7365 - binary_accuracy: 0.7311 - auc: 0.7764 - precision: 0.6149 - recall: 0.5176 - val_loss: 0.8582 - val_binary_accuracy: 0.7321 - val_auc: 0.7768 - val_precision: 0.6168 - val_recall: 0.5186\n",
      "Epoch 30/400\n",
      "4046/4046 - 21s - loss: 0.7363 - binary_accuracy: 0.7312 - auc: 0.7764 - precision: 0.6149 - recall: 0.5179 - val_loss: 0.8582 - val_binary_accuracy: 0.7331 - val_auc: 0.7779 - val_precision: 0.6185 - val_recall: 0.5202\n",
      "Epoch 31/400\n",
      "4046/4046 - 20s - loss: 0.7361 - binary_accuracy: 0.7316 - auc: 0.7767 - precision: 0.6157 - recall: 0.5184 - val_loss: 0.8584 - val_binary_accuracy: 0.7337 - val_auc: 0.7787 - val_precision: 0.6194 - val_recall: 0.5214\n",
      "Restoring model weights from the end of the best epoch.\n",
      "Epoch 00031: early stopping\n"
     ]
    }
   ],
   "source": [
    "history = model.fit(\n",
    "    train_df[input_vars],\n",
    "    train_df[tags],\n",
    "    verbose=2,\n",
    "    batch_size=parameters['batch_size'],\n",
    "    epochs=parameters['epochs'],\n",
    "    sample_weight=train_df['training_weight'],\n",
    "    # We pass some validation for\n",
    "    # monitoring validation loss and metrics\n",
    "    # at the end of each epoch\n",
    "    validation_data=(val_df[input_vars],val_df[tags],val_df['training_weight']),\n",
    "    callbacks = [early_stopping, reduce_plateau, loss_history],\n",
    ")\n"
   ]
  },
  {
   "cell_type": "code",
   "execution_count": 22,
   "id": "94334845",
   "metadata": {
    "scrolled": true
   },
   "outputs": [
    {
     "name": "stdout",
     "output_type": "stream",
     "text": [
      "Curves saved as loss_WWGGIdentifier_even.png\n"
     ]
    },
    {
     "data": {
      "image/png": "[encoded data removed]",
      "text/plain": [
       "<Figure size 864x864 with 17 Axes>"
      ]
     },
     "metadata": {
      "needs_background": "light"
     },
     "output_type": "display_data"
    }
   ],
   "source": [
    "History.PlotHistory(loss_history,params=parameters,outputName=f'loss_{suffix}_{split}.png')\n",
    "# Params is a dict of parameters with name and values\n",
    "# used for plotting\n"
   ]
  },
  {
   "cell_type": "code",
   "execution_count": 23,
   "id": "0cb255ec",
   "metadata": {},
   "outputs": [],
   "source": [
    "# Produce output on the test set as new column #\n",
    "output = model.predict(test_df[input_vars],batch_size=5000)\n",
    "output_tags = [f'output {tag}' for tag in tags]\n",
    "    # Here the batch_size arg is independent of the learning\n",
    "    # Default is 32, but it can become slow, by using large value it will just compute more values in parallel\n",
    "    # (more or less parallel, we are not using a GPU)\n",
    "for output_tag in output_tags:\n",
    "    if output_tag in test_df.columns:\n",
    "        # If already output, need to remove to add again\n",
    "        # avoid issues in case you run this cell multiple times\n",
    "        del test_df[output_tag]\n",
    "\n",
    "test_df = pd.concat((test_df,pd.DataFrame(output,columns=output_tags,index=test_df.index)),axis=1)\n",
    "# We add the output as a column, a bit messy, different ways, here I use a concatenation\n",
    "\n",
    "# Make the discriminator #\n",
    "if 'd_HH' in test_df.columns:\n",
    "    del test_df['d_HH']\n",
    "    \n",
    "signal_idx = [i for i,tag in enumerate(tags) if 'HH' in tag]\n",
    "\n",
    "# d_HH = ln (P(HH) / (P(single H) + P(background)))\n",
    "\n",
    "#test_df['d_HH'] = pd.Series(np.ones(test_df.shape[0]))\n",
    "\n",
    "# Numerator #\n",
    "num = pd.DataFrame((test_df[[output_tags[i] for i in range(len(tags)) if i in signal_idx]]).sum(axis=1))\n",
    "# Denominator #\n",
    "den = pd.DataFrame(test_df[[output_tags[i] for i in range(len(tags)) if i not in signal_idx]].sum(axis=1))\n",
    "# Ln #\n",
    "d_HH = np.log(num / den)\n",
    "test_df['d_HH'] = d_HH\n",
    "\n",
    "if df[df.isin([np.nan, np.inf, -np.inf]).any(1)].shape[0] > 0:\n",
    "    raise RuntimeError('Some nan of inf values in d_HH')"
   ]
  },
  {
   "cell_type": "code",
   "execution_count": null,
   "id": "1f10f696",
   "metadata": {},
   "outputs": [
    {
     "name": "stdout",
     "output_type": "stream",
     "text": [
      "ROC curve of binary classification of HH node versus all the others\n"
     ]
    }
   ],
   "source": [
    "import roc\n",
    "importlib.reload(roc) # Reload in case file has changed\n",
    "for tag in tags:\n",
    "    print (f'ROC curve of binary classification of {tag} node versus all the others')\n",
    "    roc.rocAndSig(y_true                 = test_df[tag],\n",
    "                  y_pred                 = test_df[f'output {tag}'],\n",
    "                  w_roc                  = test_df['training_weight'],\n",
    "                  w_sig                  = test_df['event_weight'],\n",
    "                  show_significance      = 'HH' in tag,\n",
    "                  outputName             = f'roc_{suffix}_{split}_{tag}.pdf')\n",
    "\n",
    "# Multiclassification ROC curves are a bit harder to interpret than binary classification\n",
    "# Here I do one versus the rest, so each ROC curves shows how the DNN is able to classify\n",
    "# one class (HH, single H or background) versus all the others, which is one projection on\n",
    "# how to see the performances\n",
    "# For HH I show the significance but more as an information, because using only the HH node \n",
    "# means we do not use all the power of the multiclass (-> d_HH is for that)\n",
    "# print (f'ROC curve of binary classification of d_HH')\n",
    "# roc.rocAndSig(y_true                 = test_df['HH'],\n",
    "#               y_pred                 = test_df['d_HH'],\n",
    "#               w_roc                  = test_df['training_weight'],\n",
    "#               w_sig                  = test_df['event_weight'],\n",
    "#               show_significance      = True,\n",
    "#               outputName             = f'roc_{suffix}_{split}_d_HH.pdf')\n",
    "\n",
    "# # Tryign a new things, seeing the discrimination power of each node, class wise\n",
    "# for tag in tags:\n",
    "#     print (f'Multi roc curve for `output {tag}`')\n",
    "#     tags_order = [tag] + [t for t in tags if t != tag]\n",
    "#     roc.multiRoc(outputs    = [test_df[test_df['tag']==tag][f'output {tag}'] for tag in tags_order],\n",
    "#                  tags       = tags_order,\n",
    "#                  weights    = [test_df[test_df['tag']==tag]['training_weight'] for tag in tags_order],\n",
    "#                  title      = f'Using node {tag}',\n",
    "#                  outputName = f'multi_roc_{suffix}_{split}_output_{tag}.pdf')"
   ]
  },
  {
   "cell_type": "code",
   "execution_count": null,
   "id": "5698fe85",
   "metadata": {},
   "outputs": [],
   "source": [
    "fig,axs = plt.subplots(figsize=(12,25),nrows=len(tags)+1,ncols=2)\n",
    "fig.subplots_adjust(left=0.1, right=0.9, top=0.98, bottom=0.1, wspace=0.3,hspace=0.5)\n",
    "\n",
    "tag_df = {tag:test_df[test_df['tag']==tag] for tag in tags}\n",
    "colors = ['g','r','b']\n",
    "\n",
    "# Manual binning so we can compute significance #\n",
    "n_bins = 50\n",
    "\n",
    "def get_bin_content(bins,y,w):\n",
    "    digitized = np.digitize(y,bins)\n",
    "    return np.array([w[digitized==i].sum() for i in range(1, len(bins))])\n",
    "\n",
    "for irow,output_tag in enumerate(output_tags+['d_HH']):\n",
    "    for icol,weight in enumerate(['event_weight','training_weight']):\n",
    "        # Fill the bins myself #\n",
    "        bins = np.linspace(test_df[output_tag].min(),test_df[output_tag].max(),n_bins+1)\n",
    "        centers = (bins[1:]+bins[:-1])/2\n",
    "        widths = np.diff(bins)\n",
    "        \n",
    "        tag_content = {tag:get_bin_content(bins,tag_df[tag][output_tag],tag_df[tag][weight])for tag in tags}\n",
    "        tag_cumsum_left = {tag:np.cumsum(tag_content[tag])/tag_content[tag].sum() for tag in tags}\n",
    "        tag_cumsum_right = {tag:np.cumsum(tag_content[tag][::-1])[::-1]/tag_content[tag].sum() for tag in tags}\n",
    "        # Need to integrate all the bins right of the DNN cut to get significance\n",
    "        #z_left = np.nan_to_num(np.sqrt(2*((cumsum_s_left+cumsum_b_left)*np.log(1+cumsum_s_left/cumsum_b_left)-cumsum_s_left)))\n",
    "        #z_right = np.nan_to_num(np.sqrt(2*((cumsum_s_right+cumsum_b_right)*np.log(1+cumsum_s_right/cumsum_b_right)-cumsum_s_right)))\n",
    "        #z_left /= z_left.max()\n",
    "        #z_right /= z_right.max()\n",
    "        for i,(tag,content) in enumerate(tag_content.items()):\n",
    "            axs[irow,icol].bar(x=centers,height=content,width=widths,fill=False,edgecolor=colors[i],label=tag)     \n",
    "        #ax2=axs[irow,icol].twinx()   \n",
    "        \n",
    "        #ax2.plot(centers,z_left,color='r',label='Significance (left of cut) [normed]')\n",
    "        #ax2.plot(centers,z_right,color='r',linestyle='--',label='Significance (right of cut) [normed]')\n",
    "\n",
    "        #for i,tag in enumerate(tag_content.keys()):\n",
    "        #    ax2.plot(centers,content,color=colors[i],linestyle='-',label=f'{tag} content (left of cut)')\n",
    "        #    ax2.plot(centers,color=colors[i],linestyle='--',label=f'{tag} content (right of cut)')\n",
    "        \n",
    "        #ax2.set_yscale(\"log\")\n",
    "        #ax2.set_ylim([0,1.4])\n",
    "        #ax2.set_ylabel('Cumulative distribution')\n",
    "        #ax2.legend(loc='upper right')\n",
    "\n",
    "        axs[irow,icol].set_title(f\"Using {weight}\")\n",
    "        axs[irow,icol].set_xlabel(output_tag)\n",
    "        axs[irow,icol].set_ylabel('Yield')\n",
    "        axs[irow,icol].set_ylim(1e-5,max([content.max() for content in tag_content.values()])*100)\n",
    "        axs[irow,icol].set_yscale('log')\n",
    "        axs[irow,icol].legend(loc='upper left')\n",
    "fig.savefig(f\"prediction_{suffix}_{split}.pdf\", dpi = 300)"
   ]
  },
  {
   "cell_type": "code",
   "execution_count": null,
   "id": "86da4315",
   "metadata": {},
   "outputs": [],
   "source": [
    "# evaluate the model\n",
    "scores = model.evaluate(test_df[input_vars], \n",
    "                        test_df[tags], \n",
    "                        sample_weight = test_df['training_weight'], \n",
    "                        batch_size = 5000,\n",
    "                        verbose=2)\n",
    "print(\"%s: %.2f%%\" % (model.metrics_names[1], scores[1]*100))"
   ]
  },
  {
   "cell_type": "code",
   "execution_count": null,
   "id": "051f1247",
   "metadata": {},
   "outputs": [],
   "source": [
    "# save model and architecture to single file\n",
    "modelName = f\"model_{suffix}_{split}\"\n",
    "model.save(modelName)\n",
    "print(f\"Saved model to disk as {modelName}\")"
   ]
  },
  {
   "cell_type": "code",
   "execution_count": null,
   "id": "24ec2c8d",
   "metadata": {},
   "outputs": [],
   "source": []
  }
 ],
 "metadata": {
  "kernelspec": {
   "display_name": "Python 3 (ipykernel)",
   "language": "python",
   "name": "python3"
  },
  "language_info": {
   "codemirror_mode": {
    "name": "ipython",
    "version": 3
   },
   "file_extension": ".py",
   "mimetype": "text/x-python",
   "name": "python",
   "nbconvert_exporter": "python",
   "pygments_lexer": "ipython3",
   "version": "3.9.6"
  }
 },
 "nbformat": 4,
 "nbformat_minor": 5
}
